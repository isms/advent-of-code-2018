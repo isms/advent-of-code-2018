{
 "cells": [
  {
   "cell_type": "code",
   "execution_count": 303,
   "metadata": {},
   "outputs": [],
   "source": [
    "%matplotlib inline\n",
    "import numpy as np\n",
    "from tqdm import tqdm\n",
    "from scipy import ndimage\n",
    "import matplotlib.pyplot as plt\n",
    "from matplotlib.animation import FuncAnimation\n",
    "\n",
    "NEIGHBORS_FOOTPRINT = np.array([[1,1,1], [1,0,1], [1,1,1]])\n",
    "\n",
    "\n",
    "def parse(text):\n",
    "    return np.array([list(line) for line in text.splitlines()])\n",
    "\n",
    "def to_string(arr):\n",
    "    return \"\\n\".join([\"\".join(row) for row in arr])\n",
    "\n",
    "def get_neighbor_counts(arr, char):\n",
    "    binary = (arr == char).astype(np.int)\n",
    "    return ndimage.generic_filter(binary, np.sum, footprint=NEIGHBORS_FOOTPRINT, mode=\"constant\")\n",
    "\n",
    "def turn(arr):\n",
    "    arr_next = arr.copy()\n",
    "    trees = (arr == \"|\")\n",
    "    opens = (arr == \".\")\n",
    "    lumbers = (arr == \"#\")\n",
    "    \n",
    "    # An open acre will become filled with trees if three or more adjacent acres contained trees.\n",
    "    n_trees = get_neighbor_counts(arr, \"|\")\n",
    "    arr_next[opens & (n_trees >= 3)] = \"|\"\n",
    "    \n",
    "    # An acre filled with trees will become a lumberyard if three or more adjacent acres were lumberyards.\n",
    "    n_lumbers = get_neighbor_counts(arr, \"#\")\n",
    "    arr_next[trees & (n_lumbers >= 3)] = \"#\"\n",
    "    \n",
    "    # An acre containing a lumberyard will remain a lumberyard if it was adjacent to at least one other\n",
    "    # lumberyard and at least one acre containing trees. Otherwise, it becomes open.\n",
    "    remain_lumber = (n_lumbers >= 1) & (n_trees >= 1)\n",
    "    arr_next[lumbers & remain_lumber] = \"#\"\n",
    "    arr_next[lumbers & ~remain_lumber] = \".\"\n",
    "    \n",
    "    return arr_next\n",
    "\n",
    "def score(arr):\n",
    "    return (arr == \"#\").sum() * (arr == \"|\").sum()\n",
    "\n",
    "def play(arr, rounds, verbose=False):\n",
    "    if verbose:\n",
    "        print(\"Initial state:\")\n",
    "        print(to_string(arr))\n",
    "        print()\n",
    "    counter = range(1, rounds + 1) if verbose else tqdm(range(1, rounds + 1))\n",
    "    for i in counter:\n",
    "        arr = turn(arr)\n",
    "        if verbose:\n",
    "            print(f\"After {i} minute{'s' if i > 1 else ''}\")\n",
    "            print(to_string(arr))\n",
    "    return arr"
   ]
  },
  {
   "cell_type": "code",
   "execution_count": 59,
   "metadata": {},
   "outputs": [
    {
     "name": "stdout",
     "output_type": "stream",
     "text": [
      "Initial state:\n",
      ".#.#...|#.\n",
      ".....#|##|\n",
      ".|..|...#.\n",
      "..|#.....#\n",
      "#.#|||#|#|\n",
      "...#.||...\n",
      ".|....|...\n",
      "||...#|.#|\n",
      "|.||||..|.\n",
      "...#.|..|.\n",
      "\n",
      "After 1 minute\n",
      ".......##.\n",
      "......|###\n",
      ".|..|...#.\n",
      "..|#||...#\n",
      "..##||.|#|\n",
      "...#||||..\n",
      "||...|||..\n",
      "|||||.||.|\n",
      "||||||||||\n",
      "....||..|.\n",
      "After 2 minutes\n",
      ".......#..\n",
      "......|#..\n",
      ".|.|||....\n",
      "..##|||..#\n",
      "..###|||#|\n",
      "...#|||||.\n",
      "|||||||||.\n",
      "||||||||||\n",
      "||||||||||\n",
      ".|||||||||\n",
      "After 3 minutes\n",
      ".......#..\n",
      "....|||#..\n",
      ".|.||||...\n",
      "..###|||.#\n",
      "...##|||#|\n",
      ".||##|||||\n",
      "||||||||||\n",
      "||||||||||\n",
      "||||||||||\n",
      "||||||||||\n",
      "After 4 minutes\n",
      ".....|.#..\n",
      "...||||#..\n",
      ".|.#||||..\n",
      "..###||||#\n",
      "...###||#|\n",
      "|||##|||||\n",
      "||||||||||\n",
      "||||||||||\n",
      "||||||||||\n",
      "||||||||||\n",
      "After 5 minutes\n",
      "....|||#..\n",
      "...||||#..\n",
      ".|.##||||.\n",
      "..####|||#\n",
      ".|.###||#|\n",
      "|||###||||\n",
      "||||||||||\n",
      "||||||||||\n",
      "||||||||||\n",
      "||||||||||\n",
      "After 6 minutes\n",
      "...||||#..\n",
      "...||||#..\n",
      ".|.###|||.\n",
      "..#.##|||#\n",
      "|||#.##|#|\n",
      "|||###||||\n",
      "||||#|||||\n",
      "||||||||||\n",
      "||||||||||\n",
      "||||||||||\n",
      "After 7 minutes\n",
      "...||||#..\n",
      "..||#|##..\n",
      ".|.####||.\n",
      "||#..##||#\n",
      "||##.##|#|\n",
      "|||####|||\n",
      "|||###||||\n",
      "||||||||||\n",
      "||||||||||\n",
      "||||||||||\n",
      "After 8 minutes\n",
      "..||||##..\n",
      "..|#####..\n",
      "|||#####|.\n",
      "||#...##|#\n",
      "||##..###|\n",
      "||##.###||\n",
      "|||####|||\n",
      "||||#|||||\n",
      "||||||||||\n",
      "||||||||||\n",
      "After 9 minutes\n",
      "..||###...\n",
      ".||#####..\n",
      "||##...##.\n",
      "||#....###\n",
      "|##....##|\n",
      "||##..###|\n",
      "||######||\n",
      "|||###||||\n",
      "||||||||||\n",
      "||||||||||\n",
      "After 10 minutes\n",
      ".||##.....\n",
      "||###.....\n",
      "||##......\n",
      "|##.....##\n",
      "|##.....##\n",
      "|##....##|\n",
      "||##.####|\n",
      "||#####|||\n",
      "||||#|||||\n",
      "||||||||||\n",
      "score: 1147\n"
     ]
    }
   ],
   "source": [
    "test_input = \"\"\".#.#...|#.\n",
    ".....#|##|\n",
    ".|..|...#.\n",
    "..|#.....#\n",
    "#.#|||#|#|\n",
    "...#.||...\n",
    ".|....|...\n",
    "||...#|.#|\n",
    "|.||||..|.\n",
    "...#.|..|.\"\"\"\n",
    "arr = parse(test_input)\n",
    "res = play(arr, 10, verbose=True)\n",
    "print(\"score:\", score(res))\n",
    "assert score(res) == 1147"
   ]
  },
  {
   "cell_type": "markdown",
   "metadata": {},
   "source": [
    "### Part 1"
   ]
  },
  {
   "cell_type": "code",
   "execution_count": 312,
   "metadata": {},
   "outputs": [
    {
     "name": "stderr",
     "output_type": "stream",
     "text": [
      "\n",
      "  0%|          | 0/10 [00:00<?, ?it/s]\u001b[A\n",
      " 40%|████      | 4/10 [00:00<00:00, 36.60it/s]\u001b[A\n",
      " 80%|████████  | 8/10 [00:00<00:00, 37.40it/s]\u001b[A\n",
      "100%|██████████| 10/10 [00:00<00:00, 36.66it/s]\u001b[A"
     ]
    },
    {
     "data": {
      "text/plain": [
       "505895"
      ]
     },
     "execution_count": 312,
     "metadata": {},
     "output_type": "execute_result"
    }
   ],
   "source": [
    "with open(\"../inputs/18/input.txt\", \"r\") as fp:\n",
    "    text = fp.read()\n",
    "    arr = parse(text)\n",
    "score(play(arr, 10))"
   ]
  },
  {
   "cell_type": "markdown",
   "metadata": {},
   "source": [
    "### Part 2\n",
    "\n",
    "Computationally outrageous so there must be a recurring pattern."
   ]
  },
  {
   "cell_type": "code",
   "execution_count": 256,
   "metadata": {},
   "outputs": [],
   "source": [
    "with open(\"../inputs/18/input.txt\", \"r\") as fp:\n",
    "    text = fp.read()\n",
    "    arr = parse(text)\n",
    "arrs = [arr.copy()]\n",
    "for i in range(1000):\n",
    "    arr = turn(arr)\n",
    "    arrs.append(arr.copy())\n",
    "arrs = np.array(arrs)"
   ]
  },
  {
   "cell_type": "code",
   "execution_count": 280,
   "metadata": {},
   "outputs": [
    {
     "data": {
      "text/plain": [
       "array([416, 500, 584, 668, 752, 836, 920])"
      ]
     },
     "execution_count": 280,
     "metadata": {},
     "output_type": "execute_result"
    }
   ],
   "source": [
    "pairs = []\n",
    "for i in range(len(arrs)):\n",
    "    if (arrs[i] == arrs[500]).all():\n",
    "        pairs.append(i)\n",
    "pairs = np.array(pairs)\n",
    "pairs"
   ]
  },
  {
   "cell_type": "code",
   "execution_count": 281,
   "metadata": {},
   "outputs": [
    {
     "data": {
      "text/plain": [
       "array([84, 84, 84, 84, 84, 84])"
      ]
     },
     "execution_count": 281,
     "metadata": {},
     "output_type": "execute_result"
    }
   ],
   "source": [
    "np.diff(pairs)"
   ]
  },
  {
   "cell_type": "code",
   "execution_count": 283,
   "metadata": {},
   "outputs": [],
   "source": [
    "for i in range(500, len(arrs) - 84):\n",
    "    assert (arrs[i] == arrs[i+84]).all()"
   ]
  },
  {
   "cell_type": "code",
   "execution_count": 324,
   "metadata": {},
   "outputs": [],
   "source": [
    "assert (1000000000 - 496) % 84 == 0"
   ]
  },
  {
   "cell_type": "code",
   "execution_count": 299,
   "metadata": {},
   "outputs": [
    {
     "data": {
      "text/plain": [
       "139590"
      ]
     },
     "execution_count": 299,
     "metadata": {},
     "output_type": "execute_result"
    }
   ],
   "source": [
    "score(arrs[496])"
   ]
  },
  {
   "cell_type": "code",
   "execution_count": 323,
   "metadata": {},
   "outputs": [
    {
     "data": {
      "image/png": "[encoded data removed]",
      "text/plain": [
       "<Figure size 432x288 with 1 Axes>"
      ]
     },
     "metadata": {},
     "output_type": "display_data"
    }
   ],
   "source": [
    "fig, ax = plt.subplots()\n",
    "\n",
    "p = ax.matshow(np.where(arrs[0] == \".\", 0, np.where(arrs[0] == \"#\", -1, 1)))\n",
    "\n",
    "def update(i):\n",
    "    label = 'timestep {0}'.format(i)\n",
    "    p.set_data(np.where(arrs[i] == \".\", 0, np.where(arrs[i] == \"#\", -1, 1)))\n",
    "    ax.set_xlabel(label)\n",
    "    return p, ax\n",
    "\n",
    "anim = FuncAnimation(fig, update, frames=np.arange(0, 600), interval=50)\n",
    "anim.save('/tmp/line.gif', dpi=80, writer='imagemagick')"
   ]
  },
  {
   "cell_type": "code",
   "execution_count": 326,
   "metadata": {},
   "outputs": [
    {
     "name": "stderr",
     "output_type": "stream",
     "text": [
      "IOPub data rate exceeded.\n",
      "The notebook server will temporarily stop sending output\n",
      "to the client in order to avoid crashing it.\n",
      "To change this limit, set the config variable\n",
      "`--NotebookApp.iopub_data_rate_limit`.\n"
     ]
    }
   ],
   "source": [
    "from IPython.display import Image\n",
    "Image(filename='../assets/day18.gif')"
   ]
  },
  {
   "cell_type": "code",
   "execution_count": null,
   "metadata": {},
   "outputs": [],
   "source": []
  }
 ],
 "metadata": {
  "kernelspec": {
   "display_name": "Python 3",
   "language": "python",
   "name": "python3"
  },
  "language_info": {
   "codemirror_mode": {
    "name": "ipython",
    "version": 3
   },
   "file_extension": ".py",
   "mimetype": "text/x-python",
   "name": "python",
   "nbconvert_exporter": "python",
   "pygments_lexer": "ipython3",
   "version": "3.6.3"
  }
 },
 "nbformat": 4,
 "nbformat_minor": 2
}
