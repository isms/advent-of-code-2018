{
 "cells": [
  {
   "cell_type": "markdown",
   "metadata": {},
   "source": [
    "The power level in a given fuel cell can be found through the following process:\n",
    "\n",
    "- Find the fuel cell's rack ID, which is its X coordinate plus 10.\n",
    "- Begin with a power level of the rack ID times the Y coordinate.\n",
    "- Increase the power level by the value of the grid serial number (your puzzle input).\n",
    "- Set the power level to itself multiplied by the rack ID.\n",
    "- Keep only the hundreds digit of the power level (so 12345 becomes 3; numbers with no hundreds digit become 0).\n",
    "- Subtract 5 from the power level."
   ]
  },
  {
   "cell_type": "markdown",
   "metadata": {},
   "source": [
    "### Part 1"
   ]
  },
  {
   "cell_type": "code",
   "execution_count": 276,
   "metadata": {},
   "outputs": [],
   "source": [
    "import numpy as np\n",
    "from tqdm import tqdm"
   ]
  },
  {
   "cell_type": "code",
   "execution_count": 2,
   "metadata": {},
   "outputs": [],
   "source": [
    "SERIAL = 5153"
   ]
  },
  {
   "cell_type": "code",
   "execution_count": 303,
   "metadata": {},
   "outputs": [],
   "source": [
    "def take_hundred_digit(arr):\n",
    "    arr = np.where(arr < 100, 0, arr)\n",
    "    arr = arr // 100\n",
    "    return arr - 10 * (arr // 10)\n",
    "\n",
    "def calculate(serial, shape=(300, 300)):\n",
    "    values = np.zeros(shape)\n",
    "    yy, xx = np.indices(shape) + 1\n",
    "    # Find the fuel cell's rack ID, which is its X coordinate plus 10.\n",
    "    rack_id = xx + 10\n",
    "    # Begin with a power level of the rack ID times the Y coordinate.\n",
    "    values = (rack_id * yy)\n",
    "    # Increase the power level by the value of the grid serial number (your puzzle input).\n",
    "    values += serial\n",
    "    # Set the power level to itself multiplied by the rack ID.\n",
    "    values *= rack_id\n",
    "    # Keep only the hundreds digit of the power level (so 12345 becomes 3; numbers with no hundreds digit become 0)\n",
    "    values = take_hundred_digit(values)\n",
    "    # Subtract 5 from the power level.\n",
    "    values -= 5\n",
    "    return values\n",
    "\n",
    "def find_best_plot(arr, patch_width):\n",
    "    i_star, j_star, s_star = 0, 0, -1\n",
    "    for i in range(arr.shape[0]+1-patch_width):\n",
    "        for j in range(arr.shape[1]+1-patch_width):\n",
    "            s = arr[i:i+patch_width, j:j+patch_width].sum()\n",
    "            if s > s_star:\n",
    "                i_star, j_star, s_star = i, j, s\n",
    "    return j_star + 1, i_star + 1, s_star\n",
    "\n",
    "assert(calculate(8)[4, 2] == 4)\n",
    "assert(calculate(57)[78, 121] == -5)\n",
    "assert(calculate(39)[195, 216] == 0)\n",
    "assert(calculate(71)[152, 100] == 4)\n",
    "assert(find_best_plot(calculate(18), 3)[:2] == (33, 45))\n",
    "assert(find_best_plot(calculate(42), 3)[:2] == (21, 61))"
   ]
  },
  {
   "cell_type": "code",
   "execution_count": 302,
   "metadata": {},
   "outputs": [
    {
     "data": {
      "text/plain": [
       "(33, 45)"
      ]
     },
     "execution_count": 302,
     "metadata": {},
     "output_type": "execute_result"
    }
   ],
   "source": [
    "find_best_plot(calculate(18), 3)[:2]"
   ]
  },
  {
   "cell_type": "markdown",
   "metadata": {},
   "source": [
    "### Part 2 (*Sometimes, brute force is good enough*)"
   ]
  },
  {
   "cell_type": "code",
   "execution_count": 283,
   "metadata": {},
   "outputs": [],
   "source": [
    "from dask.distributed import Client\n",
    "\n",
    "client = Client()"
   ]
  },
  {
   "cell_type": "code",
   "execution_count": 295,
   "metadata": {},
   "outputs": [
    {
     "name": "stdout",
     "output_type": "stream",
     "text": [
      "CPU times: user 8.72 s, sys: 4.4 s, total: 13.1 s\n",
      "Wall time: 1min 21s\n"
     ]
    }
   ],
   "source": [
    "%%time\n",
    "import itertools\n",
    "\n",
    "def find_best_plot_of_size(arr, patch_width):\n",
    "    return (patch_width, find_best_plot(arr, patch_width))\n",
    "\n",
    "arr = client.scatter(calculate(5153))\n",
    "futures = client.map(find_best_plot_of_size, itertools.repeat(arr), range(301))\n",
    "results = client.gather(futures)"
   ]
  },
  {
   "cell_type": "code",
   "execution_count": 296,
   "metadata": {},
   "outputs": [
    {
     "data": {
      "text/plain": [
       "[(12, (236, 227, 110)),\n",
       " (14, (236, 225, 107)),\n",
       " (15, (236, 224, 106)),\n",
       " (16, (236, 223, 100)),\n",
       " (13, (236, 226, 97)),\n",
       " (18, (236, 223, 91)),\n",
       " (17, (236, 223, 89)),\n",
       " (11, (237, 228, 88)),\n",
       " (19, (236, 222, 81)),\n",
       " (10, (236, 227, 78))]"
      ]
     },
     "execution_count": 296,
     "metadata": {},
     "output_type": "execute_result"
    }
   ],
   "source": [
    "from operator import itemgetter\n",
    "sorted(results, key=lambda x: x[1][2], reverse=True)[:10]"
   ]
  },
  {
   "cell_type": "code",
   "execution_count": null,
   "metadata": {},
   "outputs": [],
   "source": []
  }
 ],
 "metadata": {
  "kernelspec": {
   "display_name": "Python 3",
   "language": "python",
   "name": "python3"
  },
  "language_info": {
   "codemirror_mode": {
    "name": "ipython",
    "version": 3
   },
   "file_extension": ".py",
   "mimetype": "text/x-python",
   "name": "python",
   "nbconvert_exporter": "python",
   "pygments_lexer": "ipython3",
   "version": "3.6.3"
  }
 },
 "nbformat": 4,
 "nbformat_minor": 2
}
