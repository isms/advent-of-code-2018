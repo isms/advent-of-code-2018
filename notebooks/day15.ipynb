{
 "cells": [
  {
   "cell_type": "markdown",
   "metadata": {},
   "source": [
    "### Parsing"
   ]
  },
  {
   "cell_type": "code",
   "execution_count": 1,
   "metadata": {},
   "outputs": [
    {
     "data": {
      "text/plain": [
       "(array([['#', '#', '#', '#', '#'],\n",
       "        ['#', '.', '.', '.', '#'],\n",
       "        ['#', '#', '.', '.', '#'],\n",
       "        ['#', '.', '.', '.', '#'],\n",
       "        ['#', '#', '#', '#', '#']], \n",
       "       dtype='<U1'),\n",
       " [Entity(position=(3, 1), id='a', kind='E', attack=3, hp=200),\n",
       "  Entity(position=(1, 1), id='A', kind='G', attack=3, hp=200),\n",
       "  Entity(position=(2, 2), id='B', kind='G', attack=3, hp=200)])"
      ]
     },
     "execution_count": 1,
     "metadata": {},
     "output_type": "execute_result"
    }
   ],
   "source": [
    "import string\n",
    "import itertools\n",
    "import numpy as np\n",
    "from tqdm import tqdm\n",
    "from collections import deque, namedtuple, OrderedDict\n",
    "\n",
    "Entity = namedtuple(\"Entity\", [\"position\", \"id\", \"kind\", \"attack\", \"hp\"])\n",
    "\n",
    "def parse(text):\n",
    "    ids = {\"E\": itertools.cycle(string.ascii_lowercase), \"G\": itertools.cycle(string.ascii_uppercase)}\n",
    "    arr = np.array([[c for c in line.strip()] for line in text.splitlines() if line])\n",
    "    entities = [\n",
    "        Entity(position=tuple(pos), id=next(ids[kind]), kind=kind, attack=3, hp=200)\n",
    "        for kind in \"EG\"\n",
    "        for pos in np.argwhere(arr == kind)\n",
    "    ]\n",
    "    for entity in entities:\n",
    "        arr[entity.position] = \".\"\n",
    "    return arr, entities\n",
    "\n",
    "parse(\"\"\"\n",
    "#####\n",
    "#G..#\n",
    "##G.#\n",
    "#E..#\n",
    "#####\n",
    "\"\"\")"
   ]
  },
  {
   "cell_type": "markdown",
   "metadata": {},
   "source": [
    "### Pathfinding"
   ]
  },
  {
   "cell_type": "code",
   "execution_count": 37,
   "metadata": {},
   "outputs": [
    {
     "data": {
      "text/plain": [
       "[(1, 2), (2, 2), (3, 2), (3, 3)]"
      ]
     },
     "execution_count": 37,
     "metadata": {},
     "output_type": "execute_result"
    }
   ],
   "source": [
    "def board(arr, entities, use_id=False):\n",
    "    arr = arr.copy()\n",
    "    for entity in entities:\n",
    "        arr[entity.position] = entity.id if use_id else entity.kind\n",
    "    return arr\n",
    "\n",
    "def get_shortest_path(start, end, arr):\n",
    "    \"\"\" breadth-first search adapted from https://stackoverflow.com/a/47902476 \"\"\"\n",
    "    arr = arr.copy()\n",
    "    m, n = arr.shape\n",
    "    start, end = tuple(start), tuple(end)\n",
    "    arr[end] = \"*\"\n",
    "    queue = deque([[start]])\n",
    "    seen = set([start])\n",
    "    while queue:\n",
    "        path = queue.popleft()\n",
    "        (r, c) = path[-1]\n",
    "        if (r, c) == end:\n",
    "            return path[1:]\n",
    "        for r2, c2 in ((r - 1, c), (r, c - 1), (r, c + 1), (r + 1, c)):\n",
    "            if 0 <= c2 < n and 0 <= r2 < n and arr[r2, c2] in \".*\" and (r2, c2) not in seen:\n",
    "                queue.append(path + [(r2, c2)])\n",
    "                seen.add((r2, c2))\n",
    "\n",
    "def paths_to_enemies(entity, enemies, arr):\n",
    "    mask = board(arr, enemies)\n",
    "    paths = []\n",
    "    for enemy in enemies:\n",
    "        paths.append(get_shortest_path(entity.position, enemy.position, arr))\n",
    "    # remove impossible ones\n",
    "    paths = [path for path in paths if path is not None]\n",
    "    # sort by number of steps (min=1) and book order of target\n",
    "    return sorted(paths, key=lambda x: (len(x), x[-1]))\n",
    "\n",
    "arr, _ = parse(\"\"\"\n",
    "#####\n",
    "#E..#\n",
    "##.##\n",
    "#G.G#\n",
    "#####\n",
    "\"\"\")\n",
    "get_shortest_path((1, 1), (3, 3), arr)"
   ]
  },
  {
   "cell_type": "markdown",
   "metadata": {},
   "source": [
    "### Gameplay"
   ]
  },
  {
   "cell_type": "code",
   "execution_count": 38,
   "metadata": {},
   "outputs": [
    {
     "name": "stdout",
     "output_type": "stream",
     "text": [
      "After 0 rounds:\n",
      "####   \n",
      "#G.#   A(200)\n",
      "#.E#   a(200)\n",
      "####   \n",
      "A moves towards a: step to (1, 2)\n",
      "A attacks a at (2, 2)\n",
      "a attacks A at (1, 2)\n",
      "\n",
      "After 1 rounds:\n",
      "####   \n",
      "#.G#   A(197)\n",
      "#.E#   a(197)\n",
      "####   \n",
      "\n",
      "A attacks a at (2, 2)\n",
      "a attacks A at (1, 2)\n",
      "\n",
      "After 2 rounds:\n",
      "####   \n",
      "#.G#   A(194)\n",
      "#.E#   a(194)\n",
      "####   \n",
      "\n",
      "A attacks a at (2, 2)\n",
      "a attacks A at (1, 2)\n",
      "\n",
      "After 3 rounds:\n",
      "####   \n",
      "#.G#   A(191)\n",
      "#.E#   a(191)\n",
      "####   \n",
      "\n"
     ]
    },
    {
     "data": {
      "text/plain": [
       "(3,\n",
       " [Entity(position=(2, 2), id='a', kind='E', attack=3, hp=191),\n",
       "  Entity(position=(1, 2), id='A', kind='G', attack=3, hp=191)])"
      ]
     },
     "execution_count": 38,
     "metadata": {},
     "output_type": "execute_result"
    }
   ],
   "source": [
    "def move(entity, new_position):\n",
    "    return Entity(new_position, *entity[1:])\n",
    "\n",
    "def attack(attacker, opponent):\n",
    "    new_hp = opponent.hp - attacker.attack\n",
    "    opponent = Entity(\n",
    "        position=opponent.position,\n",
    "        id=opponent.id,\n",
    "        kind=opponent.kind,\n",
    "        attack=opponent.attack,\n",
    "        hp=new_hp\n",
    "    )\n",
    "    return attacker, opponent\n",
    "\n",
    "def game_over(entities):\n",
    "    return all([e.kind == entities[0].kind for e in entities])\n",
    "\n",
    "def turn(arr, entities, verbose=False):\n",
    "    entities = sorted(entities)\n",
    "    \n",
    "    # create a mutable state holder separate from the list we will iterate over\n",
    "    state = {e.position: e for e in entities}\n",
    "    \n",
    "    for player in entities:\n",
    "        if game_over(list(state.values())):\n",
    "            return list(state.values()), 0\n",
    "        \n",
    "        if player.position not in state:\n",
    "            # this player must have been killed\n",
    "            continue\n",
    "        \n",
    "        # figure out who is closest\n",
    "        player = state.pop(player.position)\n",
    "        enemies = [e for _, e in state.items() if e.kind != player.kind]\n",
    "        \n",
    "        # either choose attack target right away or try to move\n",
    "        paths = paths_to_enemies(player, enemies, board(arr, state.values()))\n",
    "        adjacent = [path[-1] for path in paths if len(path) == 1]\n",
    "        if not adjacent:\n",
    "            if not paths:\n",
    "                state[player.position] = player\n",
    "                continue  # we can't do anything\n",
    "            # move\n",
    "            path, target_pos = paths[0], paths[0][-1]\n",
    "            player = move(player, path[0])\n",
    "            if verbose:\n",
    "                print(f\"{player.id} moves towards {state[target_pos].id}: step to {path[0]}\")\n",
    "        \n",
    "        # if there is still nobody adjacent, finish up\n",
    "        paths = paths_to_enemies(player, enemies, board(arr, state.values()))\n",
    "        adjacent = [path[-1] for path in paths if len(path) == 1]\n",
    "        if not adjacent:\n",
    "            state[player.position] = player\n",
    "            continue\n",
    "            \n",
    "        if adjacent:\n",
    "            # attack enemy with lowest HP\n",
    "            attacking = sorted(adjacent, key=lambda pos: (state[pos].hp, pos))[0]\n",
    "            opponent = state.pop(attacking)\n",
    "            if verbose:\n",
    "                print(f\"{player.id} attacks {opponent.id} at {attacking}\")\n",
    "            player, opponent = attack(player, opponent)\n",
    "            state[player.position] = player\n",
    "            if opponent.hp > 0:\n",
    "                state[opponent.position] = opponent\n",
    "            elif verbose:\n",
    "                print(f\"-- opponent {opponent.id} died\")\n",
    "\n",
    "    return list(state.values()), 1\n",
    "\n",
    "def pretty_print(arr, entities, use_id=False):\n",
    "    arr = board(arr, entities, use_id=use_id)\n",
    "    for i, line in enumerate(arr):\n",
    "        entities_in_row = sorted([e for e in entities if e.position[0] == i])\n",
    "        extra = \", \".join([f\"{e.id}({e.hp})\" for e in entities_in_row])\n",
    "        print(\"\".join(line) + \"   \" + extra)\n",
    "        \n",
    "def play(arr, entities, verbose=False, max_rounds=10_000):\n",
    "    if verbose:\n",
    "        print(\"After 0 rounds:\")\n",
    "        pretty_print(arr, entities)\n",
    "    i = 0\n",
    "    while i < max_rounds and not game_over(entities):\n",
    "        entities, full = turn(arr, entities, verbose=verbose)\n",
    "        i += full\n",
    "        if verbose:\n",
    "            print()\n",
    "            print(f\"After {i} rounds:\")\n",
    "            pretty_print(arr, entities)\n",
    "            print()\n",
    "\n",
    "    return i, entities\n",
    "    \n",
    "arr, entities = parse(\"\"\"\n",
    "####\n",
    "#G.#\n",
    "#.E#\n",
    "####\n",
    "\"\"\")\n",
    "play(arr, entities, verbose=True, max_rounds=3)"
   ]
  },
  {
   "cell_type": "markdown",
   "metadata": {},
   "source": [
    "### Part 1"
   ]
  },
  {
   "cell_type": "code",
   "execution_count": 39,
   "metadata": {},
   "outputs": [],
   "source": [
    "def outcome(text):\n",
    "    text = \"\\n\".join([\"\".join(line.split(\" \")[0].strip()) for line in text.splitlines() if line.startswith(\"#\")])\n",
    "    arr, entities = parse(text)\n",
    "    n_rounds, result = play(arr, entities, verbose=False)\n",
    "    hp_left = sum(entity.hp for entity in result)\n",
    "    answer = hp_left * n_rounds\n",
    "    \n",
    "    pretty_print(arr, result)\n",
    "    print(f\"Combat ends after {n_rounds} full rounds\")\n",
    "    print(f\"{entities[0].kind} win with {hp_left} total hit points left\")\n",
    "    print(f\"Outcome: {n_rounds} * {hp_left} = {answer}\")\n",
    "    return answer"
   ]
  },
  {
   "cell_type": "code",
   "execution_count": 40,
   "metadata": {},
   "outputs": [
    {
     "name": "stdout",
     "output_type": "stream",
     "text": [
      "#######   \n",
      "#G....#   A(200)\n",
      "#.G...#   B(131)\n",
      "#.#.#G#   C(59)\n",
      "#...#.#   \n",
      "#....G#   D(200)\n",
      "#######   \n",
      "Combat ends after 47 full rounds\n",
      "E win with 590 total hit points left\n",
      "Outcome: 47 * 590 = 27730\n"
     ]
    }
   ],
   "source": [
    "assert outcome(\"\"\"\n",
    "#######\n",
    "#.G...#\n",
    "#...EG#\n",
    "#.#.#G#\n",
    "#..G#E#\n",
    "#.....#\n",
    "#######\n",
    "\"\"\") == 27730"
   ]
  },
  {
   "cell_type": "code",
   "execution_count": 41,
   "metadata": {},
   "outputs": [
    {
     "name": "stdout",
     "output_type": "stream",
     "text": [
      "#######   \n",
      "#...#E#   a(200)\n",
      "#E#...#   c(197)\n",
      "#.E##.#   f(185)\n",
      "#E..#E#   e(200), d(200)\n",
      "#.....#   \n",
      "#######   \n",
      "Combat ends after 37 full rounds\n",
      "E win with 982 total hit points left\n",
      "Outcome: 37 * 982 = 36334\n"
     ]
    }
   ],
   "source": [
    "assert outcome(\"\"\"\n",
    "#######       #######\n",
    "#G..#E#       #...#E#   E(200)\n",
    "#E#E.E#       #E#...#   E(197)\n",
    "#G.##.#  -->  #.E##.#   E(185)\n",
    "#...#E#       #E..#E#   E(200), E(200)\n",
    "#...E.#       #.....#\n",
    "#######       #######\n",
    "Combat ends after 37 full rounds\n",
    "Elves win with 982 total hit points left\n",
    "Outcome: 37 * 982 = 36334\n",
    "\"\"\") == 36334"
   ]
  },
  {
   "cell_type": "code",
   "execution_count": 42,
   "metadata": {},
   "outputs": [
    {
     "name": "stdout",
     "output_type": "stream",
     "text": [
      "#######   \n",
      "#.E.E.#   a(164), c(197)\n",
      "#.#E..#   e(200)\n",
      "#E.##.#   d(98)\n",
      "#.E.#.#   f(200)\n",
      "#...#.#   \n",
      "#######   \n",
      "Combat ends after 46 full rounds\n",
      "E win with 859 total hit points left\n",
      "Outcome: 46 * 859 = 39514\n"
     ]
    }
   ],
   "source": [
    "assert outcome(\"\"\"\n",
    "#######       #######   \n",
    "#E..EG#       #.E.E.#   E(164), E(197)\n",
    "#.#G.E#       #.#E..#   E(200)\n",
    "#E.##E#  -->  #E.##.#   E(98)\n",
    "#G..#.#       #.E.#.#   E(200)\n",
    "#..E#.#       #...#.#   \n",
    "#######       #######   \n",
    "Combat ends after 46 full rounds\n",
    "Elves win with 859 total hit points left\n",
    "Outcome: 46 * 859 = 39514\n",
    "\"\"\") == 39514"
   ]
  },
  {
   "cell_type": "code",
   "execution_count": 43,
   "metadata": {},
   "outputs": [
    {
     "name": "stdout",
     "output_type": "stream",
     "text": [
      "#######   \n",
      "#G.G#.#   C(200), A(98)\n",
      "#.#G..#   B(200)\n",
      "#..#..#   \n",
      "#...#G#   D(95)\n",
      "#...G.#   E(200)\n",
      "#######   \n",
      "Combat ends after 35 full rounds\n",
      "E win with 793 total hit points left\n",
      "Outcome: 35 * 793 = 27755\n"
     ]
    }
   ],
   "source": [
    "assert outcome(\"\"\"\n",
    "#######       #######   \n",
    "#E.G#.#       #G.G#.#   G(200), G(98)\n",
    "#.#G..#       #.#G..#   G(200)\n",
    "#G.#.G#  -->  #..#..#   \n",
    "#G..#.#       #...#G#   G(95)\n",
    "#...E.#       #...G.#   G(200)\n",
    "#######       #######  \n",
    "Combat ends after 35 full rounds\n",
    "Goblins win with 793 total hit points left\n",
    "Outcome: 35 * 793 = 27755\n",
    "\"\"\") == 27755"
   ]
  },
  {
   "cell_type": "code",
   "execution_count": 44,
   "metadata": {},
   "outputs": [
    {
     "name": "stdout",
     "output_type": "stream",
     "text": [
      "#######   \n",
      "#.....#   \n",
      "#.#G..#   C(200)\n",
      "#.###.#   \n",
      "#.#.#.#   \n",
      "#G.G#G#   A(98), B(38), D(200)\n",
      "#######   \n",
      "Combat ends after 54 full rounds\n",
      "E win with 536 total hit points left\n",
      "Outcome: 54 * 536 = 28944\n"
     ]
    }
   ],
   "source": [
    "assert outcome(\"\"\"\n",
    "#######       #######   \n",
    "#.E...#       #.....#   \n",
    "#.#..G#       #.#G..#   G(200)\n",
    "#.###.#  -->  #.###.#   \n",
    "#E#G#G#       #.#.#.#   \n",
    "#...#G#       #G.G#G#   G(98), G(38), G(200)\n",
    "#######       #######   \n",
    "\"\"\") == 28944"
   ]
  },
  {
   "cell_type": "code",
   "execution_count": 45,
   "metadata": {},
   "outputs": [
    {
     "name": "stdout",
     "output_type": "stream",
     "text": [
      "#########   \n",
      "#.G.....#   A(137)\n",
      "#G.G#...#   D(200), B(200)\n",
      "#.G##...#   C(200)\n",
      "#...##..#   \n",
      "#.G.#...#   E(200)\n",
      "#.......#   \n",
      "#.......#   \n",
      "#########   \n",
      "Combat ends after 20 full rounds\n",
      "E win with 937 total hit points left\n",
      "Outcome: 20 * 937 = 18740\n"
     ]
    }
   ],
   "source": [
    "assert outcome(\"\"\"\n",
    "#########       #########   \n",
    "#G......#       #.G.....#   G(137)\n",
    "#.E.#...#       #G.G#...#   G(200), G(200)\n",
    "#..##..G#       #.G##...#   G(200)\n",
    "#...##..#  -->  #...##..#   \n",
    "#...#...#       #.G.#...#   G(200)\n",
    "#.G...G.#       #.......#   \n",
    "#.....G.#       #.......#   \n",
    "#########       ######### \n",
    "Combat ends after 20 full rounds\n",
    "Goblins win with 937 total hit points left\n",
    "Outcome: 20 * 937 = 18740\n",
    "\"\"\") == 18740"
   ]
  },
  {
   "cell_type": "code",
   "execution_count": null,
   "metadata": {},
   "outputs": [],
   "source": [
    "with open(\"../inputs/15/input.txt\") as fp:\n",
    "    output(fp.read())"
   ]
  },
  {
   "cell_type": "code",
   "execution_count": null,
   "metadata": {},
   "outputs": [],
   "source": []
  }
 ],
 "metadata": {
  "kernelspec": {
   "display_name": "Python 3",
   "language": "python",
   "name": "python3"
  },
  "language_info": {
   "codemirror_mode": {
    "name": "ipython",
    "version": 3
   },
   "file_extension": ".py",
   "mimetype": "text/x-python",
   "name": "python",
   "nbconvert_exporter": "python",
   "pygments_lexer": "ipython3",
   "version": "3.6.3"
  }
 },
 "nbformat": 4,
 "nbformat_minor": 2
}
