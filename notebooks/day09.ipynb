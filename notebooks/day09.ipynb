{
 "cells": [
  {
   "cell_type": "markdown",
   "metadata": {},
   "source": [
    "First, the marble numbered 0 is placed in the circle. At this point, while it contains only a single marble, it is still a circle: the marble is both clockwise from itself and counter-clockwise from itself. This marble is designated the current marble.\n",
    "\n",
    "Then, each Elf takes a turn placing the lowest-numbered remaining marble into the circle between the marbles that are 1 and 2 marbles clockwise of the current marble. (When the circle is large enough, this means that there is one marble between the marble that was just placed and the current marble.) The marble that was just placed then becomes the current marble.\n",
    "\n",
    "However, if the marble that is about to be placed has a number which is a multiple of 23, something entirely different happens. First, the current player keeps the marble they would have placed, adding it to their score. In addition, the marble 7 marbles counter-clockwise from the current marble is removed from the circle and also added to the current player's score. The marble located immediately clockwise of the marble that was removed becomes the new current marble."
   ]
  },
  {
   "cell_type": "code",
   "execution_count": 1,
   "metadata": {},
   "outputs": [
    {
     "name": "stderr",
     "output_type": "stream",
     "text": [
      "100%|██████████| 26/26 [00:00<00:00, 234016.96it/s]\n",
      "100%|██████████| 1618/1618 [00:00<00:00, 586246.02it/s]\n",
      "100%|██████████| 7999/7999 [00:00<00:00, 991232.24it/s]\n",
      "100%|██████████| 1104/1104 [00:00<00:00, 511150.42it/s]\n",
      "100%|██████████| 6111/6111 [00:00<00:00, 688109.53it/s]\n",
      "100%|██████████| 5807/5807 [00:00<00:00, 652494.73it/s]\n"
     ]
    }
   ],
   "source": [
    "import re\n",
    "import itertools\n",
    "import numpy as np\n",
    "from tqdm import tqdm\n",
    "from collections import deque, defaultdict\n",
    "\n",
    "def play(n_players, highest_marble):\n",
    "    player = 0\n",
    "    scores = defaultdict(int)\n",
    "    circle = deque([0], maxlen=highest_marble + 1)  # marble at position 0 is current\n",
    "    to_insert = []  # an optimization to insert chunks at a time\n",
    "\n",
    "    for selected_marble in tqdm(range(1, highest_marble + 1)):\n",
    "        player = (selected_marble - 1) % n_players\n",
    "        \n",
    "        if selected_marble % 23 == 0:\n",
    "            circle.rotate(7)\n",
    "            seventh = circle.popleft()\n",
    "            scores[player] += selected_marble + seventh\n",
    "        else:\n",
    "            circle.rotate(-2)\n",
    "            circle.appendleft(selected_marble)\n",
    "    return scores\n",
    "\n",
    "assert max(play(9, 26).values()) == 32\n",
    "assert max(play(10, 1618).values()) == 8317\n",
    "assert max(play(13, 7999).values()) == 146373\n",
    "assert max(play(17, 1104).values()) == 2764\n",
    "assert max(play(21, 6111).values()) == 54718\n",
    "assert max(play(30, 5807).values()) == 37305"
   ]
  },
  {
   "cell_type": "code",
   "execution_count": 2,
   "metadata": {},
   "outputs": [
    {
     "name": "stderr",
     "output_type": "stream",
     "text": [
      "100%|██████████| 70904/70904 [00:00<00:00, 957223.06it/s]"
     ]
    },
    {
     "name": "stdout",
     "output_type": "stream",
     "text": [
      "Part 1: 371284\n",
      "CPU times: user 76.1 ms, sys: 3.93 ms, total: 80 ms\n",
      "Wall time: 79.1 ms\n"
     ]
    },
    {
     "name": "stderr",
     "output_type": "stream",
     "text": [
      "\n"
     ]
    }
   ],
   "source": [
    "%%time\n",
    "with open(\"../inputs/09/input.txt\", \"r\") as fp:\n",
    "    n_players, highest_marble = [int(x) for x in re.findall(\"\\d+\", fp.read())]\n",
    "    print(\"Part 1:\", max(play(n_players, highest_marble).values()))"
   ]
  },
  {
   "cell_type": "markdown",
   "metadata": {},
   "source": [
    "### Part 2"
   ]
  },
  {
   "cell_type": "code",
   "execution_count": 3,
   "metadata": {},
   "outputs": [
    {
     "name": "stderr",
     "output_type": "stream",
     "text": [
      "100%|██████████| 7090400/7090400 [00:04<00:00, 1437670.87it/s]"
     ]
    },
    {
     "name": "stdout",
     "output_type": "stream",
     "text": [
      "Part 2: 3038972494\n"
     ]
    },
    {
     "name": "stderr",
     "output_type": "stream",
     "text": [
      "\n"
     ]
    }
   ],
   "source": [
    "print(\"Part 2:\", max(play(n_players, highest_marble * 100).values()))"
   ]
  }
 ],
 "metadata": {
  "kernelspec": {
   "display_name": "Python 3",
   "language": "python",
   "name": "python3"
  },
  "language_info": {
   "codemirror_mode": {
    "name": "ipython",
    "version": 3
   },
   "file_extension": ".py",
   "mimetype": "text/x-python",
   "name": "python",
   "nbconvert_exporter": "python",
   "pygments_lexer": "ipython3",
   "version": "3.6.3"
  }
 },
 "nbformat": 4,
 "nbformat_minor": 2
}
