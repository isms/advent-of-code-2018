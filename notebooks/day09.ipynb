{
 "cells": [
  {
   "cell_type": "markdown",
   "metadata": {},
   "source": [
    "First, the marble numbered 0 is placed in the circle. At this point, while it contains only a single marble, it is still a circle: the marble is both clockwise from itself and counter-clockwise from itself. This marble is designated the current marble.\n",
    "\n",
    "Then, each Elf takes a turn placing the lowest-numbered remaining marble into the circle between the marbles that are 1 and 2 marbles clockwise of the current marble. (When the circle is large enough, this means that there is one marble between the marble that was just placed and the current marble.) The marble that was just placed then becomes the current marble.\n",
    "\n",
    "However, if the marble that is about to be placed has a number which is a multiple of 23, something entirely different happens. First, the current player keeps the marble they would have placed, adding it to their score. In addition, the marble 7 marbles counter-clockwise from the current marble is removed from the circle and also added to the current player's score. The marble located immediately clockwise of the marble that was removed becomes the new current marble."
   ]
  },
  {
   "cell_type": "markdown",
   "metadata": {},
   "source": [
    "```\n",
    "10 players; last marble is worth 1618 points: high score is 8317\n",
    "13 players; last marble is worth 7999 points: high score is 146373\n",
    "17 players; last marble is worth 1104 points: high score is 2764\n",
    "21 players; last marble is worth 6111 points: high score is 54718\n",
    "30 players; last marble is worth 5807 points: high score is 37305\n",
    "```"
   ]
  },
  {
   "cell_type": "code",
   "execution_count": 8,
   "metadata": {},
   "outputs": [
    {
     "name": "stderr",
     "output_type": "stream",
     "text": [
      "100%|██████████| 26/26 [00:00<00:00, 139989.61it/s]\n",
      "100%|██████████| 1618/1618 [00:00<00:00, 113957.28it/s]\n",
      "100%|██████████| 7999/7999 [00:00<00:00, 30433.84it/s]\n",
      "100%|██████████| 1104/1104 [00:00<00:00, 107458.90it/s]\n",
      "100%|██████████| 6111/6111 [00:00<00:00, 35394.75it/s]\n",
      "100%|██████████| 5807/5807 [00:00<00:00, 32054.50it/s]\n"
     ]
    }
   ],
   "source": [
    "import re\n",
    "import itertools\n",
    "from tqdm import tqdm\n",
    "from collections import deque, defaultdict\n",
    "\n",
    "\n",
    "def play(n_players, highest_marble):\n",
    "    selected_marble = 0\n",
    "    player = 0\n",
    "    curr = 0\n",
    "    scores = defaultdict(int)\n",
    "    circle = [0]  # marble at position 0 is current\n",
    "\n",
    "    for i in tqdm(range(1, highest_marble + 1)):\n",
    "        idx_curr = circle.index(curr)\n",
    "        player = (player % n_players) + 1\n",
    "        selected_marble += 1\n",
    "\n",
    "        if i > 0 and i % 23 == 0:\n",
    "            to_remove = circle[idx_curr - 7]\n",
    "            scores[player] += selected_marble + to_remove\n",
    "            circle.remove(to_remove)\n",
    "            curr = circle[circle.index(curr) - 6]\n",
    "        else:\n",
    "            insert_at = (idx_curr + 2) % len(circle) if len(circle) > 3 else len(circle)\n",
    "            circle.insert(insert_at, selected_marble)\n",
    "            curr = selected_marble\n",
    "    return scores\n",
    "\n",
    "assert max(play(9, 26).values()) == 32\n",
    "assert max(play(10, 1618).values()) == 8317\n",
    "assert max(play(13, 7999).values()) == 146373\n",
    "assert max(play(17, 1104).values()) == 2764\n",
    "assert max(play(21, 6111).values()) == 54718\n",
    "assert max(play(30, 5807).values()) == 37305"
   ]
  },
  {
   "cell_type": "code",
   "execution_count": 9,
   "metadata": {},
   "outputs": [
    {
     "name": "stderr",
     "output_type": "stream",
     "text": [
      "100%|██████████| 70904/70904 [00:25<00:00, 2731.24it/s]"
     ]
    },
    {
     "name": "stdout",
     "output_type": "stream",
     "text": [
      "Part 1: 371284\n",
      "CPU times: user 25.9 s, sys: 95.9 ms, total: 26 s\n",
      "Wall time: 26 s\n"
     ]
    },
    {
     "name": "stderr",
     "output_type": "stream",
     "text": [
      "\n"
     ]
    }
   ],
   "source": [
    "%%time\n",
    "with open(\"../inputs/09/input.txt\", \"r\") as fp:\n",
    "    args = [int(x) for x in re.findall(\"\\d+\", fp.read())]\n",
    "    print(\"Part 1:\", max(play(*args).values()))"
   ]
  },
  {
   "cell_type": "markdown",
   "metadata": {},
   "source": [
    "### Part 2"
   ]
  },
  {
   "cell_type": "code",
   "execution_count": null,
   "metadata": {},
   "outputs": [],
   "source": []
  }
 ],
 "metadata": {
  "kernelspec": {
   "display_name": "Python 3",
   "language": "python",
   "name": "python3"
  },
  "language_info": {
   "codemirror_mode": {
    "name": "ipython",
    "version": 3
   },
   "file_extension": ".py",
   "mimetype": "text/x-python",
   "name": "python",
   "nbconvert_exporter": "python",
   "pygments_lexer": "ipython3",
   "version": "3.6.3"
  }
 },
 "nbformat": 4,
 "nbformat_minor": 2
}
