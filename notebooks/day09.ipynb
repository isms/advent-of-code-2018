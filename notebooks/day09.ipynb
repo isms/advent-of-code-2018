{
 "cells": [
  {
   "cell_type": "markdown",
   "metadata": {},
   "source": [
    "First, the marble numbered 0 is placed in the circle. At this point, while it contains only a single marble, it is still a circle: the marble is both clockwise from itself and counter-clockwise from itself. This marble is designated the current marble.\n",
    "\n",
    "Then, each Elf takes a turn placing the lowest-numbered remaining marble into the circle between the marbles that are 1 and 2 marbles clockwise of the current marble. (When the circle is large enough, this means that there is one marble between the marble that was just placed and the current marble.) The marble that was just placed then becomes the current marble.\n",
    "\n",
    "However, if the marble that is about to be placed has a number which is a multiple of 23, something entirely different happens. First, the current player keeps the marble they would have placed, adding it to their score. In addition, the marble 7 marbles counter-clockwise from the current marble is removed from the circle and also added to the current player's score. The marble located immediately clockwise of the marble that was removed becomes the new current marble."
   ]
  },
  {
   "cell_type": "code",
   "execution_count": 70,
   "metadata": {},
   "outputs": [
    {
     "name": "stderr",
     "output_type": "stream",
     "text": [
      "\n",
      "  0%|          | 0/26 [00:00<?, ?it/s]\u001b[A\n",
      "100%|██████████| 26/26 [00:00<00:00, 65027.97it/s]\u001b[A\n",
      "  0%|          | 0/1618 [00:00<?, ?it/s]\u001b[A\n",
      "100%|██████████| 1618/1618 [00:00<00:00, 268141.13it/s]\u001b[A\n",
      "  0%|          | 0/7999 [00:00<?, ?it/s]\u001b[A\n",
      "100%|██████████| 7999/7999 [00:00<00:00, 160849.92it/s]\u001b[A\n",
      "  0%|          | 0/1104 [00:00<?, ?it/s]\u001b[A\n",
      "100%|██████████| 1104/1104 [00:00<00:00, 320850.31it/s]\u001b[A\n",
      "  0%|          | 0/6111 [00:00<?, ?it/s]\u001b[A\n",
      "100%|██████████| 6111/6111 [00:00<00:00, 184938.68it/s]\u001b[A\n",
      "  0%|          | 0/5807 [00:00<?, ?it/s]\u001b[A\n",
      "100%|██████████| 5807/5807 [00:00<00:00, 230494.21it/s]\u001b[A"
     ]
    }
   ],
   "source": [
    "import re\n",
    "import itertools\n",
    "import numpy as np\n",
    "from tqdm import tqdm\n",
    "from collections import deque, defaultdict\n",
    "\n",
    "values = []\n",
    "def play(n_players, highest_marble):\n",
    "    selected_marble = 0\n",
    "    player = 0\n",
    "    scores = defaultdict(int)\n",
    "    circle = [0]  # marble at position 0 is current\n",
    "    to_insert = []  # an optimization to insert chunks at a time\n",
    "\n",
    "    for i in tqdm(range(1, highest_marble + 1)):\n",
    "        player = (player % n_players) + 1\n",
    "        selected_marble += 1\n",
    "        \n",
    "        if i > 0 and i % 23 == 0:\n",
    "            to_remove = circle[idx_curr - 7]\n",
    "            idx_curr -= 7\n",
    "            if idx_curr < 0:\n",
    "                idx_curr += len(circle)\n",
    "            circle.remove(to_remove)\n",
    "            scores[player] += selected_marble + to_remove\n",
    "        else:\n",
    "            n = len(circle)\n",
    "            insert_at = (idx_curr + 2) % n if n > 3 else n\n",
    "            circle.insert(insert_at, selected_marble)\n",
    "            idx_curr = insert_at\n",
    "            \n",
    "        values.append((len(circle), idx_curr))\n",
    "    return scores\n",
    "\n",
    "assert max(play(9, 26).values()) == 32\n",
    "assert max(play(10, 1618).values()) == 8317\n",
    "assert max(play(13, 7999).values()) == 146373\n",
    "assert max(play(17, 1104).values()) == 2764\n",
    "assert max(play(21, 6111).values()) == 54718\n",
    "assert max(play(30, 5807).values()) == 37305"
   ]
  },
  {
   "cell_type": "code",
   "execution_count": 71,
   "metadata": {},
   "outputs": [
    {
     "name": "stderr",
     "output_type": "stream",
     "text": [
      "\n",
      "  0%|          | 0/50000 [00:00<?, ?it/s]\u001b[A\n",
      " 25%|██▌       | 12673/50000 [00:00<00:00, 126665.49it/s]\u001b[A\n",
      " 41%|████▏     | 20644/50000 [00:00<00:00, 107640.78it/s]\u001b[A\n",
      " 52%|█████▏    | 25806/50000 [00:00<00:00, 81100.40it/s] \u001b[A\n",
      " 62%|██████▏   | 30887/50000 [00:00<00:00, 62925.35it/s]\u001b[A\n",
      " 72%|███████▏  | 36064/50000 [00:00<00:00, 59097.97it/s]\u001b[A\n",
      " 82%|████████▏ | 40974/50000 [00:00<00:00, 50849.98it/s]\u001b[A\n",
      " 91%|█████████ | 45562/50000 [00:00<00:00, 43016.59it/s]\u001b[A\n",
      " 99%|█████████▉| 49723/50000 [00:00<00:00, 34186.51it/s]\u001b[A\n",
      "100%|██████████| 50000/50000 [00:00<00:00, 50235.59it/s]"
     ]
    },
    {
     "name": "stdout",
     "output_type": "stream",
     "text": [
      " "
     ]
    },
    {
     "name": "stderr",
     "output_type": "stream",
     "text": [
      "\u001b[A"
     ]
    },
    {
     "data": {
      "text/plain": [
       "         266337 function calls in 1.006 seconds\n",
       "\n",
       "   Ordered by: internal time\n",
       "\n",
       "   ncalls  tottime  percall  cumtime  percall filename:lineno(function)\n",
       "     2173    0.579    0.000    0.579    0.000 {method 'remove' of 'list' objects}\n",
       "    47827    0.256    0.000    0.256    0.000 {method 'insert' of 'list' objects}\n",
       "        1    0.092    0.092    1.004    1.004 <ipython-input-70-f6947f9fbc57>:8(play)\n",
       "    50001    0.034    0.000    0.058    0.000 _tqdm.py:795(__iter__)\n",
       "      113    0.014    0.000    0.014    0.000 {method 'acquire' of '_thread.lock' objects}\n",
       "    97843    0.013    0.000    0.013    0.000 {built-in method builtins.len}\n",
       "    50000    0.005    0.000    0.005    0.000 {method 'append' of 'list' objects}\n",
       "       63    0.003    0.000    0.006    0.000 iostream.py:180(schedule)\n",
       "    17352    0.003    0.000    0.003    0.000 {built-in method time.time}\n",
       "       63    0.002    0.000    0.002    0.000 {built-in method posix.urandom}\n",
       "        1    0.001    0.001    1.006    1.006 <string>:1(<module>)\n",
       "       31    0.000    0.000    0.005    0.000 iostream.py:342(write)\n",
       "       20    0.000    0.000    0.004    0.000 _tqdm.py:1079(moveto)\n",
       "       49    0.000    0.000    0.000    0.000 {method 'format' of 'str' objects}\n",
       "       73    0.000    0.000    0.000    0.000 threading.py:1104(is_alive)\n",
       "       10    0.000    0.000    0.001    0.000 _tqdm.py:203(format_meter)\n",
       "       10    0.000    0.000    0.000    0.000 threading.py:215(__init__)\n",
       "       10    0.000    0.000    0.014    0.001 threading.py:263(wait)\n",
       "       10    0.000    0.000    0.017    0.002 iostream.py:311(flush)\n",
       "       63    0.000    0.000    0.000    0.000 iostream.py:87(_event_pipe)\n",
       "       10    0.000    0.000    0.015    0.001 threading.py:533(wait)\n",
       "       10    0.000    0.000    0.017    0.002 _tqdm.py:191(fp_write)\n",
       "       19    0.000    0.000    0.000    0.000 _tqdm.py:160(format_interval)\n",
       "       73    0.000    0.000    0.000    0.000 threading.py:1062(_wait_for_tstate_lock)\n",
       "        1    0.000    0.000    0.003    0.003 _tqdm.py:547(__init__)\n",
       "       31    0.000    0.000    0.001    0.000 iostream.py:297(_schedule_flush)\n",
       "        1    0.000    0.000    1.006    1.006 {built-in method builtins.exec}\n",
       "       31    0.000    0.000    0.000    0.000 iostream.py:284(_is_master_process)\n",
       "       10    0.000    0.000    0.018    0.002 _tqdm.py:197(print_status)\n",
       "       31    0.000    0.000    0.000    0.000 {built-in method posix.getpid}\n",
       "       10    0.000    0.000    0.000    0.000 threading.py:498(__init__)\n",
       "       20    0.000    0.000    0.000    0.000 _utils.py:206(_term_move_up)\n",
       "        1    0.000    0.000    0.000    0.000 _utils.py:186(_environ_cols_linux)\n",
       "       21    0.000    0.000    0.000    0.000 {built-in method builtins.max}\n",
       "        1    0.000    0.000    0.000    0.000 <frozen importlib._bootstrap>:936(_find_and_load_unlocked)\n",
       "        2    0.000    0.000    0.006    0.003 _tqdm.py:990(close)\n",
       "        1    0.000    0.000    0.000    0.000 <frozen importlib._bootstrap>:966(_find_and_load)\n",
       "        1    0.000    0.000    0.000    0.000 _tqdm.py:373(__new__)\n",
       "        5    0.000    0.000    0.000    0.000 _weakrefset.py:58(__iter__)\n",
       "       22    0.000    0.000    0.000    0.000 {built-in method _thread.allocate_lock}\n",
       "       31    0.000    0.000    0.000    0.000 {built-in method builtins.isinstance}\n",
       "       73    0.000    0.000    0.000    0.000 threading.py:506(is_set)\n",
       "       48    0.000    0.000    0.000    0.000 {built-in method builtins.divmod}\n",
       "       10    0.000    0.000    0.000    0.000 threading.py:251(_acquire_restore)\n",
       "        1    0.000    0.000    0.000    0.000 <frozen importlib._bootstrap>:157(_get_module_lock)\n",
       "       10    0.000    0.000    0.000    0.000 threading.py:242(__exit__)\n",
       "       17    0.000    0.000    0.000    0.000 {built-in method builtins.chr}\n",
       "       10    0.000    0.000    0.000    0.000 threading.py:239(__enter__)\n",
       "        1    0.000    0.000    0.000    0.000 <frozen importlib._bootstrap>:78(acquire)\n",
       "        1    0.000    0.000    0.000    0.000 _tqdm.py:398(_decr_instances)\n",
       "       10    0.000    0.000    0.000    0.000 threading.py:254(_is_owned)\n",
       "        1    0.000    0.000    0.000    0.000 _tqdm.py:387(_get_free_pos)\n",
       "        4    0.000    0.000    0.000    0.000 {built-in method builtins.hasattr}\n",
       "       10    0.000    0.000    0.000    0.000 threading.py:248(_release_save)\n",
       "        2    0.000    0.000    0.000    0.000 _weakrefset.py:26(__exit__)\n",
       "        1    0.000    0.000    0.000    0.000 <frozen importlib._bootstrap>:58(__init__)\n",
       "        1    0.000    0.000    0.000    0.000 _weakrefset.py:81(add)\n",
       "        1    0.000    0.000    0.000    0.000 <frozen importlib._bootstrap>:103(release)\n",
       "        1    0.000    0.000    0.000    0.000 {built-in method fcntl.ioctl}\n",
       "        3    0.000    0.000    0.000    0.000 <frozen importlib._bootstrap>:997(_handle_fromlist)\n",
       "       10    0.000    0.000    0.000    0.000 {method '__enter__' of '_thread.lock' objects}\n",
       "        3    0.000    0.000    0.000    0.000 {method 'add' of 'set' objects}\n",
       "        3    0.000    0.000    0.000    0.000 {method 'remove' of 'set' objects}\n",
       "        1    0.000    0.000    0.000    0.000 _utils.py:121(_is_utf)\n",
       "        1    0.000    0.000    0.000    0.000 _utils.py:125(_supports_unicode)\n",
       "        1    0.000    0.000    0.000    0.000 _weakrefset.py:106(remove)\n",
       "        2    0.000    0.000    0.000    0.000 _tqdm.py:792(__hash__)\n",
       "        1    0.000    0.000    0.000    0.000 _tqdm.py:1009(fp_write)\n",
       "        2    0.000    0.000    0.000    0.000 _weakrefset.py:20(__enter__)\n",
       "       10    0.000    0.000    0.000    0.000 {method '__exit__' of '_thread.lock' objects}\n",
       "        2    0.000    0.000    0.000    0.000 _tqdm.py:391(<genexpr>)\n",
       "        2    0.000    0.000    0.000    0.000 _weakrefset.py:16(__init__)\n",
       "        1    0.000    0.000    0.000    0.000 <frozen importlib._bootstrap>:147(__enter__)\n",
       "        1    0.000    0.000    0.000    0.000 <frozen importlib._bootstrap>:176(cb)\n",
       "       10    0.000    0.000    0.000    0.000 {method 'append' of 'collections.deque' objects}\n",
       "        1    0.000    0.000    0.000    0.000 _tqdm.py:181(status_printer)\n",
       "        2    0.000    0.000    0.000    0.000 {built-in method builtins.getattr}\n",
       "        2    0.000    0.000    0.000    0.000 _weakrefset.py:52(_commit_removals)\n",
       "       10    0.000    0.000    0.000    0.000 {method 'release' of '_thread.lock' objects}\n",
       "        2    0.000    0.000    0.000    0.000 {built-in method _imp.acquire_lock}\n",
       "        1    0.000    0.000    0.000    0.000 _tqdm.py:117(report)\n",
       "        1    0.000    0.000    0.000    0.000 _tqdm.py:763(__del__)\n",
       "        1    0.000    0.000    0.000    0.000 <frozen importlib._bootstrap>:143(__init__)\n",
       "        1    0.000    0.000    0.000    0.000 <frozen importlib._bootstrap>:151(__exit__)\n",
       "        1    0.000    0.000    0.000    0.000 {method 'rpartition' of 'str' objects}\n",
       "        1    0.000    0.000    0.000    0.000 {method 'startswith' of 'str' objects}\n",
       "        2    0.000    0.000    0.000    0.000 {method 'get' of 'dict' objects}\n",
       "        1    0.000    0.000    0.000    0.000 _utils.py:132(_environ_cols_wrapper)\n",
       "        1    0.000    0.000    0.000    0.000 _weakrefset.py:67(__len__)\n",
       "        2    0.000    0.000    0.000    0.000 {built-in method builtins.id}\n",
       "        1    0.000    0.000    0.000    0.000 {method 'lower' of 'str' objects}\n",
       "        1    0.000    0.000    0.000    0.000 {built-in method __new__ of type object at 0x555f596ab020}\n",
       "        1    0.000    0.000    0.000    0.000 _tqdm.py:780(__eq__)\n",
       "        1    0.000    0.000    0.000    0.000 {method 'disable' of '_lsprof.Profiler' objects}\n",
       "        2    0.000    0.000    0.000    0.000 {built-in method _thread.get_ident}\n",
       "        2    0.000    0.000    0.000    0.000 {built-in method _imp.release_lock}"
      ]
     },
     "metadata": {},
     "output_type": "display_data"
    }
   ],
   "source": [
    "%prun play(400, 50000)"
   ]
  },
  {
   "cell_type": "code",
   "execution_count": 72,
   "metadata": {},
   "outputs": [
    {
     "name": "stderr",
     "output_type": "stream",
     "text": [
      "\n",
      "  0%|          | 0/70904 [00:00<?, ?it/s]\u001b[A\n",
      " 17%|█▋        | 11983/70904 [00:00<00:00, 119713.66it/s]\u001b[A\n",
      " 28%|██▊       | 20148/70904 [00:00<00:00, 104925.54it/s]\u001b[A\n",
      " 35%|███▌      | 25106/70904 [00:00<00:00, 64566.12it/s] \u001b[A\n",
      " 42%|████▏     | 29598/70904 [00:00<00:00, 43536.42it/s]\u001b[A\n",
      " 50%|████▉     | 35420/70904 [00:00<00:00, 47082.11it/s]\u001b[A\n",
      " 56%|█████▋    | 39884/70904 [00:00<00:00, 43370.81it/s]\u001b[A\n",
      " 62%|██████▏   | 44108/70904 [00:00<00:00, 37010.12it/s]\u001b[A\n",
      " 68%|██████▊   | 47892/70904 [00:01<00:00, 29697.10it/s]\u001b[A\n",
      " 72%|███████▏  | 51151/70904 [00:01<00:00, 25177.53it/s]\u001b[A\n",
      " 76%|███████▌  | 53990/70904 [00:01<00:00, 21814.75it/s]\u001b[A\n",
      " 80%|███████▉  | 56476/70904 [00:01<00:00, 19522.88it/s]\u001b[A\n",
      " 83%|████████▎ | 58687/70904 [00:01<00:00, 17407.32it/s]\u001b[A\n",
      " 86%|████████▌ | 60652/70904 [00:01<00:00, 16124.88it/s]\u001b[A\n",
      " 88%|████████▊ | 62440/70904 [00:02<00:00, 14823.80it/s]\u001b[A\n",
      " 90%|█████████ | 64066/70904 [00:02<00:00, 14051.02it/s]\u001b[A\n",
      " 92%|█████████▏| 65580/70904 [00:02<00:00, 13595.35it/s]\u001b[A\n",
      " 95%|█████████▍| 67019/70904 [00:02<00:00, 12824.90it/s]\u001b[A\n",
      " 96%|█████████▋| 68366/70904 [00:02<00:00, 12605.07it/s]\u001b[A\n",
      "100%|█████████▉| 70840/70904 [00:02<00:00, 14778.43it/s]\u001b[A\n",
      "100%|██████████| 70904/70904 [00:02<00:00, 26937.79it/s]"
     ]
    },
    {
     "name": "stdout",
     "output_type": "stream",
     "text": [
      "Part 1: 371284\n",
      "CPU times: user 2.62 s, sys: 10.6 ms, total: 2.63 s\n",
      "Wall time: 2.65 s\n"
     ]
    },
    {
     "name": "stderr",
     "output_type": "stream",
     "text": [
      "\u001b[A"
     ]
    }
   ],
   "source": [
    "%%time\n",
    "with open(\"../inputs/09/input.txt\", \"r\") as fp:\n",
    "    n_players, highest_marble = [int(x) for x in re.findall(\"\\d+\", fp.read())]\n",
    "    print(\"Part 1:\", max(play(n_players, highest_marble).values()))"
   ]
  },
  {
   "cell_type": "markdown",
   "metadata": {},
   "source": [
    "### Part 2"
   ]
  },
  {
   "cell_type": "code",
   "execution_count": null,
   "metadata": {},
   "outputs": [
    {
     "name": "stderr",
     "output_type": "stream",
     "text": [
      "\n",
      "  0%|          | 0/7090400 [00:00<?, ?it/s]\u001b[A\n",
      "  0%|          | 12535/7090400 [00:00<00:56, 125100.77it/s]\u001b[A\n",
      "  0%|          | 19781/7090400 [00:00<01:08, 102712.25it/s]\u001b[A\n",
      "  0%|          | 24582/7090400 [00:00<02:01, 57958.57it/s] \u001b[A\n",
      "  0%|          | 28805/7090400 [00:00<03:07, 37756.73it/s]\u001b[A\n",
      "  0%|          | 33129/7090400 [00:00<02:59, 39249.72it/s]\u001b[A\n",
      "  1%|          | 37582/7090400 [00:00<02:53, 40695.35it/s]\u001b[A\n",
      "  1%|          | 41581/7090400 [00:00<03:15, 36134.89it/s]\u001b[A\n",
      "  1%|          | 45240/7090400 [00:01<03:51, 30431.26it/s]\u001b[A\n",
      "  1%|          | 48468/7090400 [00:01<04:43, 24817.92it/s]\u001b[A\n",
      "  1%|          | 51248/7090400 [00:01<05:33, 21096.35it/s]\u001b[A\n",
      "  1%|          | 53663/7090400 [00:01<06:26, 18190.12it/s]\u001b[A\n",
      "  1%|          | 55767/7090400 [00:01<07:08, 16420.92it/s]\u001b[A\n",
      "  1%|          | 57641/7090400 [00:01<07:53, 14860.97it/s]\u001b[A\n",
      "  1%|          | 59318/7090400 [00:02<08:31, 13743.74it/s]\u001b[A\n",
      "  1%|          | 60843/7090400 [00:02<09:03, 12924.43it/s]\u001b[A\n",
      "  1%|          | 62251/7090400 [00:02<10:49, 10820.40it/s]\u001b[A\n",
      "  1%|          | 63472/7090400 [00:02<10:43, 10919.61it/s]\u001b[A\n",
      "  1%|          | 64662/7090400 [00:02<10:55, 10713.00it/s]\u001b[A\n",
      "  1%|          | 65803/7090400 [00:02<10:48, 10840.08it/s]\u001b[A\n",
      "  1%|          | 66936/7090400 [00:02<10:59, 10655.50it/s]\u001b[A\n",
      "  1%|          | 68037/7090400 [00:02<11:16, 10385.30it/s]\u001b[A\n",
      "  1%|          | 70300/7090400 [00:03<09:26, 12397.58it/s]\u001b[A\n",
      "  1%|          | 72699/7090400 [00:03<08:04, 14499.29it/s]\u001b[A\n",
      "  1%|          | 74796/7090400 [00:03<07:19, 15963.15it/s]\u001b[A\n",
      "  1%|          | 76797/7090400 [00:03<06:52, 16982.87it/s]\u001b[A\n",
      "  1%|          | 78875/7090400 [00:03<06:30, 17966.53it/s]\u001b[A\n",
      "  1%|          | 80814/7090400 [00:03<06:44, 17312.16it/s]\u001b[A\n",
      "  1%|          | 82650/7090400 [00:03<06:53, 16942.63it/s]\u001b[A\n",
      "  1%|          | 84419/7090400 [00:03<07:05, 16464.09it/s]\u001b[A\n",
      "  1%|          | 86121/7090400 [00:03<07:17, 16011.46it/s]\u001b[A\n",
      "  1%|          | 87764/7090400 [00:04<07:36, 15324.31it/s]\u001b[A\n",
      "  1%|▏         | 89332/7090400 [00:04<07:54, 14763.68it/s]\u001b[A\n",
      "  1%|▏         | 90838/7090400 [00:04<08:17, 14071.20it/s]\u001b[A\n",
      "  1%|▏         | 92273/7090400 [00:04<08:37, 13515.58it/s]\u001b[A\n",
      "  1%|▏         | 93649/7090400 [00:04<08:57, 13013.94it/s]\u001b[A\n",
      "  1%|▏         | 94971/7090400 [00:04<09:36, 12142.07it/s]\u001b[A\n",
      "  1%|▏         | 96212/7090400 [00:04<09:45, 11937.36it/s]\u001b[A\n",
      "  1%|▏         | 97425/7090400 [00:04<09:57, 11706.11it/s]\u001b[A\n",
      "  1%|▏         | 98610/7090400 [00:04<10:08, 11487.49it/s]\u001b[A\n",
      "\n",
      "  6%|▌         | 400761/7090400 [01:12<41:20, 2696.48it/s]"
     ]
    }
   ],
   "source": [
    "print(\"Part 2:\", max(play(n_players, highest_marble * 100).values()))"
   ]
  },
  {
   "cell_type": "code",
   "execution_count": null,
   "metadata": {},
   "outputs": [],
   "source": []
  }
 ],
 "metadata": {
  "kernelspec": {
   "display_name": "Python 3",
   "language": "python",
   "name": "python3"
  },
  "language_info": {
   "codemirror_mode": {
    "name": "ipython",
    "version": 3
   },
   "file_extension": ".py",
   "mimetype": "text/x-python",
   "name": "python",
   "nbconvert_exporter": "python",
   "pygments_lexer": "ipython3",
   "version": "3.6.3"
  }
 },
 "nbformat": 4,
 "nbformat_minor": 2
}
