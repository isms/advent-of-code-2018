{
 "cells": [
  {
   "cell_type": "markdown",
   "metadata": {},
   "source": [
    "First, the marble numbered 0 is placed in the circle. At this point, while it contains only a single marble, it is still a circle: the marble is both clockwise from itself and counter-clockwise from itself. This marble is designated the current marble.\n",
    "\n",
    "Then, each Elf takes a turn placing the lowest-numbered remaining marble into the circle between the marbles that are 1 and 2 marbles clockwise of the current marble. (When the circle is large enough, this means that there is one marble between the marble that was just placed and the current marble.) The marble that was just placed then becomes the current marble.\n",
    "\n",
    "However, if the marble that is about to be placed has a number which is a multiple of 23, something entirely different happens. First, the current player keeps the marble they would have placed, adding it to their score. In addition, the marble 7 marbles counter-clockwise from the current marble is removed from the circle and also added to the current player's score. The marble located immediately clockwise of the marble that was removed becomes the new current marble."
   ]
  },
  {
   "cell_type": "markdown",
   "metadata": {},
   "source": [
    "```\n",
    "10 players; last marble is worth 1618 points: high score is 8317\n",
    "13 players; last marble is worth 7999 points: high score is 146373\n",
    "17 players; last marble is worth 1104 points: high score is 2764\n",
    "21 players; last marble is worth 6111 points: high score is 54718\n",
    "30 players; last marble is worth 5807 points: high score is 37305\n",
    "```"
   ]
  },
  {
   "cell_type": "code",
   "execution_count": 17,
   "metadata": {},
   "outputs": [
    {
     "data": {
      "text/plain": [
       "array([0])"
      ]
     },
     "execution_count": 17,
     "metadata": {},
     "output_type": "execute_result"
    }
   ],
   "source": [
    "zz = np.array([1])"
   ]
  },
  {
   "cell_type": "code",
   "execution_count": 60,
   "metadata": {},
   "outputs": [
    {
     "data": {
      "text/plain": [
       "array([1])"
      ]
     },
     "execution_count": 60,
     "metadata": {},
     "output_type": "execute_result"
    }
   ],
   "source": [
    "zz[:10]"
   ]
  },
  {
   "cell_type": "code",
   "execution_count": 72,
   "metadata": {},
   "outputs": [],
   "source": [
    "zz = np.arange(10)"
   ]
  },
  {
   "cell_type": "code",
   "execution_count": 78,
   "metadata": {},
   "outputs": [
    {
     "data": {
      "text/plain": [
       "5"
      ]
     },
     "execution_count": 78,
     "metadata": {},
     "output_type": "execute_result"
    }
   ],
   "source": [
    "(ll,), = np.where(zz == 5)\n",
    "ll"
   ]
  },
  {
   "cell_type": "code",
   "execution_count": 81,
   "metadata": {},
   "outputs": [
    {
     "name": "stderr",
     "output_type": "stream",
     "text": [
      "100%|██████████| 26/26 [00:00<00:00, 16421.01it/s]\n",
      "100%|██████████| 1618/1618 [00:00<00:00, 23487.01it/s]\n",
      "100%|██████████| 7999/7999 [00:00<00:00, 29003.08it/s]\n",
      "100%|██████████| 1104/1104 [00:00<00:00, 28526.53it/s]\n",
      "100%|██████████| 6111/6111 [00:00<00:00, 29593.08it/s]\n",
      "100%|██████████| 5807/5807 [00:00<00:00, 30266.30it/s]\n"
     ]
    }
   ],
   "source": [
    "import re\n",
    "import itertools\n",
    "import numpy as np\n",
    "from tqdm import tqdm\n",
    "from collections import deque, defaultdict\n",
    "\n",
    "\n",
    "def play(n_players, highest_marble):\n",
    "    selected_marble = 0\n",
    "    player = 0\n",
    "    curr = 0\n",
    "    scores = defaultdict(int)\n",
    "    circle = np.array([0])  # marble at position 0 is current\n",
    "\n",
    "    for i in tqdm(range(1, highest_marble + 1)):\n",
    "        (idx_curr,), = np.where(circle == curr)\n",
    "        player = (player % n_players) + 1\n",
    "        selected_marble += 1\n",
    "\n",
    "        if i > 0 and i % 23 == 0:\n",
    "            to_remove = circle[idx_curr - 7]\n",
    "            curr = circle[idx_curr - 6]\n",
    "            scores[player] += selected_marble + to_remove\n",
    "            circle = circle[circle != to_remove]\n",
    "        else:\n",
    "            insert_at = (idx_curr + 2) % len(circle) if len(circle) > 3 else len(circle)\n",
    "            circle = np.insert(circle, insert_at, selected_marble)\n",
    "            curr = selected_marble\n",
    "    return scores\n",
    "\n",
    "assert max(play(9, 26).values()) == 32\n",
    "assert max(play(10, 1618).values()) == 8317\n",
    "assert max(play(13, 7999).values()) == 146373\n",
    "assert max(play(17, 1104).values()) == 2764\n",
    "assert max(play(21, 6111).values()) == 54718\n",
    "assert max(play(30, 5807).values()) == 37305"
   ]
  },
  {
   "cell_type": "code",
   "execution_count": 82,
   "metadata": {},
   "outputs": [
    {
     "name": "stderr",
     "output_type": "stream",
     "text": [
      "100%|██████████| 15807/15807 [00:00<00:00, 21747.43it/s]"
     ]
    },
    {
     "name": "stdout",
     "output_type": "stream",
     "text": [
      " "
     ]
    },
    {
     "data": {
      "text/plain": [
       "         205065 function calls in 0.730 seconds\n",
       "\n",
       "   Ordered by: internal time\n",
       "\n",
       "   ncalls  tottime  percall  cumtime  percall filename:lineno(function)\n",
       "        1    0.265    0.265    0.730    0.730 <ipython-input-81-45a62e8e2d95>:8(play)\n",
       "    15120    0.258    0.000    0.378    0.000 function_base.py:4740(insert)\n",
       "    45361    0.063    0.000    0.063    0.000 {built-in method numpy.core.multiarray.array}\n",
       "    15807    0.048    0.000    0.048    0.000 {built-in method numpy.core.multiarray.where}\n",
       "    15120    0.021    0.000    0.021    0.000 numeric.py:1490(rollaxis)\n",
       "    15120    0.020    0.000    0.020    0.000 {built-in method numpy.core.multiarray.empty}\n",
       "    15808    0.020    0.000    0.032    0.000 _tqdm.py:795(__iter__)\n",
       "       88    0.009    0.000    0.009    0.000 {method 'acquire' of '_thread.lock' objects}\n",
       "    30252    0.006    0.000    0.006    0.000 {built-in method builtins.len}\n",
       "    15120    0.006    0.000    0.014    0.000 numeric.py:463(asarray)\n",
       "    15131    0.006    0.000    0.006    0.000 {built-in method builtins.isinstance}\n",
       "    15120    0.004    0.000    0.004    0.000 {method 'item' of 'numpy.ndarray' objects}\n",
       "     6292    0.002    0.000    0.002    0.000 {built-in method time.time}\n",
       "       39    0.001    0.000    0.001    0.000 iostream.py:180(schedule)\n",
       "       39    0.000    0.000    0.000    0.000 {built-in method posix.urandom}\n",
       "       44    0.000    0.000    0.000    0.000 {method 'format' of 'str' objects}\n",
       "        9    0.000    0.000    0.000    0.000 _tqdm.py:203(format_meter)\n",
       "       10    0.000    0.000    0.000    0.000 threading.py:215(__init__)\n",
       "       10    0.000    0.000    0.010    0.001 threading.py:263(wait)\n",
       "       48    0.000    0.000    0.000    0.000 threading.py:1104(is_alive)\n",
       "       11    0.000    0.000    0.001    0.000 iostream.py:342(write)\n",
       "       10    0.000    0.000    0.010    0.001 threading.py:533(wait)\n",
       "        9    0.000    0.000    0.010    0.001 iostream.py:311(flush)\n",
       "        1    0.000    0.000    0.000    0.000 {built-in method _thread.start_new_thread}\n",
       "        9    0.000    0.000    0.011    0.001 _tqdm.py:191(fp_write)\n",
       "       39    0.000    0.000    0.000    0.000 iostream.py:87(_event_pipe)\n",
       "       48    0.000    0.000    0.000    0.000 threading.py:1062(_wait_for_tstate_lock)\n",
       "        9    0.000    0.000    0.011    0.001 _tqdm.py:197(print_status)\n",
       "       17    0.000    0.000    0.000    0.000 _tqdm.py:160(format_interval)\n",
       "       10    0.000    0.000    0.000    0.000 threading.py:498(__init__)\n",
       "        1    0.000    0.000    0.730    0.730 {built-in method builtins.exec}\n",
       "        1    0.000    0.000    0.002    0.002 _tqdm.py:547(__init__)\n",
       "       11    0.000    0.000    0.000    0.000 iostream.py:297(_schedule_flush)\n",
       "       11    0.000    0.000    0.000    0.000 iostream.py:284(_is_master_process)\n",
       "        2    0.000    0.000    0.001    0.001 _tqdm.py:990(close)\n",
       "       50    0.000    0.000    0.000    0.000 threading.py:506(is_set)\n",
       "       10    0.000    0.000    0.000    0.000 threading.py:242(__exit__)\n",
       "        1    0.000    0.000    0.001    0.001 _tqdm.py:373(__new__)\n",
       "       10    0.000    0.000    0.000    0.000 threading.py:251(_acquire_restore)\n",
       "       22    0.000    0.000    0.000    0.000 {built-in method _thread.allocate_lock}\n",
       "       19    0.000    0.000    0.000    0.000 {built-in method builtins.max}\n",
       "        1    0.000    0.000    0.001    0.001 _tqdm.py:65(__init__)\n",
       "        1    0.000    0.000    0.000    0.000 _utils.py:186(_environ_cols_linux)\n",
       "       10    0.000    0.000    0.000    0.000 threading.py:254(_is_owned)\n",
       "       43    0.000    0.000    0.000    0.000 {built-in method builtins.divmod}\n",
       "        1    0.000    0.000    0.000    0.000 threading.py:757(__init__)\n",
       "       11    0.000    0.000    0.000    0.000 {built-in method posix.getpid}\n",
       "       16    0.000    0.000    0.000    0.000 {built-in method builtins.chr}\n",
       "        3    0.000    0.000    0.000    0.000 _weakrefset.py:58(__iter__)\n",
       "        1    0.000    0.000    0.000    0.000 <frozen importlib._bootstrap>:936(_find_and_load_unlocked)\n",
       "        1    0.000    0.000    0.000    0.000 _tqdm.py:398(_decr_instances)\n",
       "       10    0.000    0.000    0.000    0.000 threading.py:239(__enter__)\n",
       "        1    0.000    0.000    0.000    0.000 threading.py:828(start)\n",
       "        1    0.000    0.000    0.000    0.000 <frozen importlib._bootstrap>:966(_find_and_load)\n",
       "       10    0.000    0.000    0.000    0.000 {method 'release' of '_thread.lock' objects}\n",
       "        2    0.000    0.000    0.000    0.000 _tqdm.py:1009(fp_write)\n",
       "        1    0.000    0.000    0.000    0.000 <frozen importlib._bootstrap>:157(_get_module_lock)\n",
       "        1    0.000    0.000    0.000    0.000 _tqdm.py:387(_get_free_pos)\n",
       "       10    0.000    0.000    0.000    0.000 threading.py:248(_release_save)\n",
       "        2    0.000    0.000    0.000    0.000 _weakrefset.py:81(add)\n",
       "       10    0.000    0.000    0.000    0.000 {method '__enter__' of '_thread.lock' objects}\n",
       "        3    0.000    0.000    0.000    0.000 {method 'remove' of 'set' objects}\n",
       "        1    0.000    0.000    0.730    0.730 <string>:1(<module>)\n",
       "        1    0.000    0.000    0.000    0.000 {built-in method fcntl.ioctl}\n",
       "        4    0.000    0.000    0.000    0.000 {built-in method builtins.hasattr}\n",
       "        2    0.000    0.000    0.000    0.000 _tqdm.py:792(__hash__)\n",
       "        2    0.000    0.000    0.000    0.000 _weakrefset.py:26(__exit__)\n",
       "        1    0.000    0.000    0.000    0.000 <frozen importlib._bootstrap>:78(acquire)\n",
       "        4    0.000    0.000    0.000    0.000 {method 'add' of 'set' objects}\n",
       "        1    0.000    0.000    0.000    0.000 _utils.py:121(_is_utf)\n",
       "        1    0.000    0.000    0.000    0.000 threading.py:1230(current_thread)\n",
       "        1    0.000    0.000    0.000    0.000 _tqdm.py:85(exit)\n",
       "        1    0.000    0.000    0.000    0.000 _tqdm.py:181(status_printer)\n",
       "        1    0.000    0.000    0.000    0.000 _tqdm.py:763(__del__)\n",
       "        2    0.000    0.000    0.000    0.000 _weakrefset.py:16(__init__)\n",
       "        2    0.000    0.000    0.000    0.000 _weakrefset.py:20(__enter__)\n",
       "        1    0.000    0.000    0.000    0.000 _weakrefset.py:106(remove)\n",
       "        3    0.000    0.000    0.000    0.000 <frozen importlib._bootstrap>:997(_handle_fromlist)\n",
       "        1    0.000    0.000    0.000    0.000 <frozen importlib._bootstrap>:58(__init__)\n",
       "        1    0.000    0.000    0.000    0.000 <frozen importlib._bootstrap>:103(release)\n",
       "        1    0.000    0.000    0.000    0.000 <frozen importlib._bootstrap>:147(__enter__)\n",
       "        1    0.000    0.000    0.000    0.000 <frozen importlib._bootstrap>:176(cb)\n",
       "       10    0.000    0.000    0.000    0.000 {method 'append' of 'collections.deque' objects}\n",
       "        1    0.000    0.000    0.000    0.000 _tqdm.py:391(<genexpr>)\n",
       "        1    0.000    0.000    0.000    0.000 _utils.py:125(_supports_unicode)\n",
       "        1    0.000    0.000    0.000    0.000 threading.py:727(_newname)\n",
       "        2    0.000    0.000    0.000    0.000 _weakrefset.py:52(_commit_removals)\n",
       "        1    0.000    0.000    0.000    0.000 <frozen importlib._bootstrap>:143(__init__)\n",
       "        1    0.000    0.000    0.000    0.000 {built-in method sys.setswitchinterval}\n",
       "       10    0.000    0.000    0.000    0.000 {method '__exit__' of '_thread.lock' objects}\n",
       "        2    0.000    0.000    0.000    0.000 {built-in method _imp.acquire_lock}\n",
       "        4    0.000    0.000    0.000    0.000 {built-in method builtins.getattr}\n",
       "        1    0.000    0.000    0.000    0.000 {method 'rpartition' of 'str' objects}\n",
       "        1    0.000    0.000    0.000    0.000 {method 'startswith' of 'str' objects}\n",
       "        1    0.000    0.000    0.000    0.000 _utils.py:132(_environ_cols_wrapper)\n",
       "        1    0.000    0.000    0.000    0.000 {method 'disable' of '_lsprof.Profiler' objects}\n",
       "        1    0.000    0.000    0.000    0.000 threading.py:1120(daemon)\n",
       "        1    0.000    0.000    0.000    0.000 threading.py:1136(daemon)\n",
       "        1    0.000    0.000    0.000    0.000 _weakrefset.py:67(__len__)\n",
       "        1    0.000    0.000    0.000    0.000 <frozen importlib._bootstrap>:151(__exit__)\n",
       "        3    0.000    0.000    0.000    0.000 {built-in method _thread.get_ident}\n",
       "        2    0.000    0.000    0.000    0.000 {built-in method _imp.release_lock}\n",
       "        2    0.000    0.000    0.000    0.000 {built-in method builtins.id}\n",
       "        1    0.000    0.000    0.000    0.000 {method 'lower' of 'str' objects}\n",
       "        1    0.000    0.000    0.000    0.000 {built-in method __new__ of type object at 0x56222d52b020}\n",
       "        2    0.000    0.000    0.000    0.000 {method 'get' of 'dict' objects}\n",
       "        1    0.000    0.000    0.000    0.000 _tqdm.py:117(report)\n",
       "        1    0.000    0.000    0.000    0.000 _tqdm.py:780(__eq__)"
      ]
     },
     "metadata": {},
     "output_type": "display_data"
    },
    {
     "name": "stderr",
     "output_type": "stream",
     "text": [
      "\n"
     ]
    }
   ],
   "source": [
    "%prun play(30, 15807)"
   ]
  },
  {
   "cell_type": "code",
   "execution_count": 85,
   "metadata": {},
   "outputs": [
    {
     "name": "stderr",
     "output_type": "stream",
     "text": [
      "100%|██████████| 70904/70904 [00:06<00:00, 11283.29it/s]"
     ]
    },
    {
     "name": "stdout",
     "output_type": "stream",
     "text": [
      "Part 1: 371284\n",
      "CPU times: user 6.27 s, sys: 28.1 ms, total: 6.3 s\n",
      "Wall time: 6.29 s\n"
     ]
    },
    {
     "name": "stderr",
     "output_type": "stream",
     "text": [
      "\n"
     ]
    }
   ],
   "source": [
    "%%time\n",
    "with open(\"../inputs/09/input.txt\", \"r\") as fp:\n",
    "    n_players, highest_marble = [int(x) for x in re.findall(\"\\d+\", fp.read())]\n",
    "    print(\"Part 1:\", max(play(n_players, highest_marble).values()))"
   ]
  },
  {
   "cell_type": "markdown",
   "metadata": {},
   "source": [
    "### Part 2"
   ]
  },
  {
   "cell_type": "code",
   "execution_count": 86,
   "metadata": {},
   "outputs": [
    {
     "name": "stderr",
     "output_type": "stream",
     "text": [
      "  2%|▏         | 165859/7090400 [00:30<41:00, 2814.34it/s]"
     ]
    },
    {
     "ename": "KeyboardInterrupt",
     "evalue": "",
     "output_type": "error",
     "traceback": [
      "\u001b[0;31m---------------------------------------------------------------------------\u001b[0m",
      "\u001b[0;31mKeyboardInterrupt\u001b[0m                         Traceback (most recent call last)",
      "\u001b[0;32m<ipython-input-86-39130245e134>\u001b[0m in \u001b[0;36m<module>\u001b[0;34m()\u001b[0m\n\u001b[0;32m----> 1\u001b[0;31m \u001b[0mprint\u001b[0m\u001b[0;34m(\u001b[0m\u001b[0;34m\"Part 2:\"\u001b[0m\u001b[0;34m,\u001b[0m \u001b[0mmax\u001b[0m\u001b[0;34m(\u001b[0m\u001b[0mplay\u001b[0m\u001b[0;34m(\u001b[0m\u001b[0mn_players\u001b[0m\u001b[0;34m,\u001b[0m \u001b[0mhighest_marble\u001b[0m \u001b[0;34m*\u001b[0m \u001b[0;36m100\u001b[0m\u001b[0;34m)\u001b[0m\u001b[0;34m.\u001b[0m\u001b[0mvalues\u001b[0m\u001b[0;34m(\u001b[0m\u001b[0;34m)\u001b[0m\u001b[0;34m)\u001b[0m\u001b[0;34m)\u001b[0m\u001b[0;34m\u001b[0m\u001b[0m\n\u001b[0m",
      "\u001b[0;32m<ipython-input-81-45a62e8e2d95>\u001b[0m in \u001b[0;36mplay\u001b[0;34m(n_players, highest_marble)\u001b[0m\n\u001b[1;32m     25\u001b[0m         \u001b[0;32melse\u001b[0m\u001b[0;34m:\u001b[0m\u001b[0;34m\u001b[0m\u001b[0m\n\u001b[1;32m     26\u001b[0m             \u001b[0minsert_at\u001b[0m \u001b[0;34m=\u001b[0m \u001b[0;34m(\u001b[0m\u001b[0midx_curr\u001b[0m \u001b[0;34m+\u001b[0m \u001b[0;36m2\u001b[0m\u001b[0;34m)\u001b[0m \u001b[0;34m%\u001b[0m \u001b[0mlen\u001b[0m\u001b[0;34m(\u001b[0m\u001b[0mcircle\u001b[0m\u001b[0;34m)\u001b[0m \u001b[0;32mif\u001b[0m \u001b[0mlen\u001b[0m\u001b[0;34m(\u001b[0m\u001b[0mcircle\u001b[0m\u001b[0;34m)\u001b[0m \u001b[0;34m>\u001b[0m \u001b[0;36m3\u001b[0m \u001b[0;32melse\u001b[0m \u001b[0mlen\u001b[0m\u001b[0;34m(\u001b[0m\u001b[0mcircle\u001b[0m\u001b[0;34m)\u001b[0m\u001b[0;34m\u001b[0m\u001b[0m\n\u001b[0;32m---> 27\u001b[0;31m             \u001b[0mcircle\u001b[0m \u001b[0;34m=\u001b[0m \u001b[0mnp\u001b[0m\u001b[0;34m.\u001b[0m\u001b[0minsert\u001b[0m\u001b[0;34m(\u001b[0m\u001b[0mcircle\u001b[0m\u001b[0;34m,\u001b[0m \u001b[0minsert_at\u001b[0m\u001b[0;34m,\u001b[0m \u001b[0mselected_marble\u001b[0m\u001b[0;34m)\u001b[0m\u001b[0;34m\u001b[0m\u001b[0m\n\u001b[0m\u001b[1;32m     28\u001b[0m             \u001b[0mcurr\u001b[0m \u001b[0;34m=\u001b[0m \u001b[0mselected_marble\u001b[0m\u001b[0;34m\u001b[0m\u001b[0m\n\u001b[1;32m     29\u001b[0m     \u001b[0;32mreturn\u001b[0m \u001b[0mscores\u001b[0m\u001b[0;34m\u001b[0m\u001b[0m\n",
      "\u001b[0;32m~/miniconda3/envs/data/lib/python3.6/site-packages/numpy/lib/function_base.py\u001b[0m in \u001b[0;36minsert\u001b[0;34m(arr, obj, values, axis)\u001b[0m\n\u001b[1;32m   4912\u001b[0m         \u001b[0mslobj2\u001b[0m \u001b[0;34m=\u001b[0m \u001b[0;34m[\u001b[0m\u001b[0mslice\u001b[0m\u001b[0;34m(\u001b[0m\u001b[0;32mNone\u001b[0m\u001b[0;34m)\u001b[0m\u001b[0;34m]\u001b[0m \u001b[0;34m*\u001b[0m \u001b[0mndim\u001b[0m\u001b[0;34m\u001b[0m\u001b[0m\n\u001b[1;32m   4913\u001b[0m         \u001b[0mslobj2\u001b[0m\u001b[0;34m[\u001b[0m\u001b[0maxis\u001b[0m\u001b[0;34m]\u001b[0m \u001b[0;34m=\u001b[0m \u001b[0mslice\u001b[0m\u001b[0;34m(\u001b[0m\u001b[0mindex\u001b[0m\u001b[0;34m,\u001b[0m \u001b[0;32mNone\u001b[0m\u001b[0;34m)\u001b[0m\u001b[0;34m\u001b[0m\u001b[0m\n\u001b[0;32m-> 4914\u001b[0;31m         \u001b[0mnew\u001b[0m\u001b[0;34m[\u001b[0m\u001b[0mslobj\u001b[0m\u001b[0;34m]\u001b[0m \u001b[0;34m=\u001b[0m \u001b[0marr\u001b[0m\u001b[0;34m[\u001b[0m\u001b[0mslobj2\u001b[0m\u001b[0;34m]\u001b[0m\u001b[0;34m\u001b[0m\u001b[0m\n\u001b[0m\u001b[1;32m   4915\u001b[0m         \u001b[0;32mif\u001b[0m \u001b[0mwrap\u001b[0m\u001b[0;34m:\u001b[0m\u001b[0;34m\u001b[0m\u001b[0m\n\u001b[1;32m   4916\u001b[0m             \u001b[0;32mreturn\u001b[0m \u001b[0mwrap\u001b[0m\u001b[0;34m(\u001b[0m\u001b[0mnew\u001b[0m\u001b[0;34m)\u001b[0m\u001b[0;34m\u001b[0m\u001b[0m\n",
      "\u001b[0;31mKeyboardInterrupt\u001b[0m: "
     ]
    }
   ],
   "source": [
    "print(\"Part 2:\", max(play(n_players, highest_marble * 100).values()))"
   ]
  },
  {
   "cell_type": "code",
   "execution_count": null,
   "metadata": {},
   "outputs": [],
   "source": []
  }
 ],
 "metadata": {
  "kernelspec": {
   "display_name": "Python 3",
   "language": "python",
   "name": "python3"
  },
  "language_info": {
   "codemirror_mode": {
    "name": "ipython",
    "version": 3
   },
   "file_extension": ".py",
   "mimetype": "text/x-python",
   "name": "python",
   "nbconvert_exporter": "python",
   "pygments_lexer": "ipython3",
   "version": "3.6.3"
  }
 },
 "nbformat": 4,
 "nbformat_minor": 2
}
