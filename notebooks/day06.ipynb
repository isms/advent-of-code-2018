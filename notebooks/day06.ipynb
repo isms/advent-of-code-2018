{
 "cells": [
  {
   "cell_type": "markdown",
   "metadata": {},
   "source": [
    "# --- Day 6: Chronal Coordinates ---\n",
    "\n",
    "The device on your wrist beeps several times, and once again you feel like you're falling.\n",
    "\n",
    "\"Situation critical,\" the device announces. \"Destination indeterminate. Chronal interference detected. Please specify new target coordinates.\"\n",
    "\n",
    "The device then produces a list of coordinates (your puzzle input). Are they places it thinks are safe or dangerous? It recommends you check manual page 729. The Elves did not give you a manual.\n",
    "\n",
    "If they're dangerous, maybe you can minimize the danger by finding the coordinate that gives the largest distance from the other points.\n",
    "\n",
    "Using only the Manhattan distance, determine the area around each coordinate by counting the number of integer X,Y locations that are closest to that coordinate (and aren't tied in distance to any other coordinate).\n",
    "\n",
    "Your goal is to find the size of the largest area that isn't infinite. For example, consider the following list of coordinates:\n",
    "\n",
    "```\n",
    "1, 1\n",
    "1, 6\n",
    "8, 3\n",
    "3, 4\n",
    "5, 5\n",
    "8, 9\n",
    "```\n",
    "\n",
    "If we name these coordinates A through F, we can draw them on a grid, putting 0,0 at the top left:\n",
    "\n",
    "```\n",
    "..........\n",
    ".A........\n",
    "..........\n",
    "........C.\n",
    "...D......\n",
    ".....E....\n",
    ".B........\n",
    "..........\n",
    "..........\n",
    "........F.\n",
    "```\n",
    "\n",
    "This view is partial - the actual grid extends infinitely in all directions. Using the Manhattan distance, each location's closest coordinate can be determined, shown here in lowercase:\n",
    "\n",
    "```\n",
    "aaaaa.cccc\n",
    "aAaaa.cccc\n",
    "aaaddecccc\n",
    "aadddeccCc\n",
    "..dDdeeccc\n",
    "bb.deEeecc\n",
    "bBb.eeee..\n",
    "bbb.eeefff\n",
    "bbb.eeffff\n",
    "bbb.ffffFf\n",
    "```\n",
    "\n",
    "Locations shown as `.` are equally far from two or more coordinates, and so they don't count as being closest to any.\n",
    "\n",
    "In this example, the areas of coordinates A, B, C, and F are infinite - while not shown here, their areas extend forever outside the visible grid. However, the areas of coordinates D and E are finite: D is closest to 9 locations, and E is closest to 17 (both including the coordinate's location itself). Therefore, in this example, the size of the largest area is 17.\n",
    "\n",
    "What is the size of the largest area that isn't infinite?"
   ]
  },
  {
   "cell_type": "code",
   "execution_count": 1,
   "metadata": {},
   "outputs": [
    {
     "name": "stderr",
     "output_type": "stream",
     "text": [
      "/home/isaac/miniconda3/envs/data/lib/python3.6/importlib/_bootstrap.py:219: RuntimeWarning: numpy.dtype size changed, may indicate binary incompatibility. Expected 96, got 88\n",
      "  return f(*args, **kwds)\n"
     ]
    }
   ],
   "source": [
    "%matplotlib inline\n",
    "from matplotlib import pyplot as plt\n",
    "\n",
    "import string\n",
    "import numpy as np\n",
    "import pandas as pd\n",
    "from tqdm import tqdm\n",
    "import seaborn as sns\n",
    "from operator import itemgetter\n",
    "from collections import Counter, OrderedDict\n",
    "\n",
    "\n",
    "def string_to_coords(string):\n",
    "    return np.array([line.split(\", \") for line in string.strip().splitlines()]).astype(np.int)\n",
    "\n",
    "def normalized(coords):\n",
    "    coords[:, 0] -= coords[:, 0].min()\n",
    "    coords[:, 1] -= coords[:, 1].min()\n",
    "    return coords\n",
    "\n",
    "def dist_matrix(coord, shape):\n",
    "    arr = np.zeros(shape, dtype=np.int)\n",
    "    arr += np.abs(np.arange(arr.shape[0]) - coord[0]).reshape(-1, 1)\n",
    "    arr += np.abs(np.arange(arr.shape[1]) - coord[1]).reshape(1, -1)\n",
    "    return arr\n",
    "\n",
    "def dist_matrixes(coords):\n",
    "    coords = normalized(coords)\n",
    "    shape = (coords[:, 0].max() + 1, coords[:, 1].max() + 1)\n",
    "    return np.array([dist_matrix(coord, shape) for coord in coords])\n",
    "\n",
    "def ownership(coords):\n",
    "    dists = dist_matrixes(coords)\n",
    "    min_dist = dists.min(axis=0)\n",
    "    owners = dists.argmin(axis=0)\n",
    "    conflict_mask = (dists == min_dist).sum(axis=0) > 1\n",
    "    owners[conflict_mask] = -1\n",
    "    return owners\n",
    "\n",
    "def plot_ownership(ownership_arr):\n",
    "    plt.matshow(np.where(ownership_arr < 0, np.nan, ownership_arr))\n",
    "    sns.despine()\n",
    "    plt.show()\n",
    "\n",
    "def get_border_idxs(arr):\n",
    "    top = arr[0, :]\n",
    "    left = arr[:, 0]\n",
    "    bottom = arr[-1, :]\n",
    "    right = arr[:, -1]\n",
    "    return set(np.concatenate([top.ravel(), left.ravel(), bottom.ravel(), right.ravel()]))\n",
    "\n",
    "def get_disqualified_idxs(arr):\n",
    "    return get_border_idxs(arr).union({-1})\n",
    "\n",
    "def find_largest_swath(ownership_arr):\n",
    "    coords_idxs = ownership_arr - 1\n",
    "    counts = Counter(coords_idxs.ravel())\n",
    "    for key in get_disqualified_idxs(coords_idxs):\n",
    "        counts.pop(key)\n",
    "    return OrderedDict(sorted(counts.items(), key=itemgetter(1), reverse=True))"
   ]
  },
  {
   "cell_type": "code",
   "execution_count": 2,
   "metadata": {},
   "outputs": [],
   "source": [
    "test_coords = string_to_coords(\"\"\"1, 1\n",
    "1, 6\n",
    "8, 3\n",
    "3, 4\n",
    "5, 5\n",
    "8, 9\"\"\")"
   ]
  },
  {
   "cell_type": "code",
   "execution_count": 3,
   "metadata": {},
   "outputs": [
    {
     "data": {
      "text/plain": [
       "array([[ 0,  0,  0, -1,  1,  1,  1,  1,  1],\n",
       "       [ 0,  0,  3,  3, -1,  1,  1,  1,  1],\n",
       "       [ 0,  3,  3,  3,  3, -1, -1, -1, -1],\n",
       "       [ 0,  3,  3,  3,  4,  4,  4,  4,  5],\n",
       "       [-1,  4,  4,  4,  4,  4,  4,  4,  5],\n",
       "       [ 2,  2,  2,  4,  4,  4,  4,  5,  5],\n",
       "       [ 2,  2,  2,  2,  4,  4,  5,  5,  5],\n",
       "       [ 2,  2,  2,  2,  2, -1,  5,  5,  5]])"
      ]
     },
     "execution_count": 3,
     "metadata": {},
     "output_type": "execute_result"
    }
   ],
   "source": [
    "ownership(test_coords)"
   ]
  },
  {
   "cell_type": "code",
   "execution_count": 4,
   "metadata": {},
   "outputs": [
    {
     "data": {
      "image/png": "[encoded data removed]",
      "text/plain": [
       "<Figure size 324x288 with 1 Axes>"
      ]
     },
     "metadata": {
      "needs_background": "light"
     },
     "output_type": "display_data"
    }
   ],
   "source": [
    "plot_ownership(ownership(test_coords))"
   ]
  },
  {
   "cell_type": "code",
   "execution_count": 5,
   "metadata": {},
   "outputs": [
    {
     "data": {
      "text/plain": [
       "OrderedDict([(3, 17), (2, 9)])"
      ]
     },
     "execution_count": 5,
     "metadata": {},
     "output_type": "execute_result"
    }
   ],
   "source": [
    "find_largest_swath(ownership(test_coords))"
   ]
  },
  {
   "cell_type": "code",
   "execution_count": 6,
   "metadata": {},
   "outputs": [
    {
     "data": {
      "image/png": "[encoded data removed]",
      "text/plain": [
       "<Figure size 288x290.909 with 1 Axes>"
      ]
     },
     "metadata": {
      "needs_background": "light"
     },
     "output_type": "display_data"
    },
    {
     "name": "stdout",
     "output_type": "stream",
     "text": [
      "OrderedDict([(4, 3420), (11, 3414), (15, 3150), (7, 2670), (19, 2598), (21, 2439), (5, 2417), (40, 2386), (23, 2294), (16, 2199), (39, 2085), (6, 1866), (24, 1759), (30, 1661), (34, 1446), (17, 1349), (29, 1329), (44, 1323), (27, 1268), (42, 1264), (41, 1070), (38, 920), (36, 914), (13, 801), (10, 478)])\n"
     ]
    }
   ],
   "source": [
    "with open('../inputs/06/input.txt', 'r') as fp:\n",
    "    coords = string_to_coords(fp.read())\n",
    "    arr = ownership(coords)\n",
    "    plot_ownership(arr)\n",
    "    print(find_largest_swath(arr))"
   ]
  },
  {
   "cell_type": "markdown",
   "metadata": {},
   "source": [
    "### Part 2"
   ]
  },
  {
   "cell_type": "code",
   "execution_count": 7,
   "metadata": {},
   "outputs": [],
   "source": [
    "dists = dist_matrixes(coords)"
   ]
  },
  {
   "cell_type": "code",
   "execution_count": 8,
   "metadata": {},
   "outputs": [
    {
     "data": {
      "image/png": "[encoded data removed]",
      "text/plain": [
       "<Figure size 288x290.909 with 1 Axes>"
      ]
     },
     "metadata": {
      "needs_background": "light"
     },
     "output_type": "display_data"
    }
   ],
   "source": [
    "region_mask = dists.sum(axis=0) < 10000\n",
    "plt.matshow(np.where(region_mask, 1, np.nan))\n",
    "sns.despine()\n",
    "plt.show()"
   ]
  },
  {
   "cell_type": "code",
   "execution_count": 9,
   "metadata": {},
   "outputs": [
    {
     "data": {
      "text/plain": [
       "46667"
      ]
     },
     "execution_count": 9,
     "metadata": {},
     "output_type": "execute_result"
    }
   ],
   "source": [
    "region_mask.sum()"
   ]
  }
 ],
 "metadata": {
  "kernelspec": {
   "display_name": "Python 3",
   "language": "python",
   "name": "python3"
  },
  "language_info": {
   "codemirror_mode": {
    "name": "ipython",
    "version": 3
   },
   "file_extension": ".py",
   "mimetype": "text/x-python",
   "name": "python",
   "nbconvert_exporter": "python",
   "pygments_lexer": "ipython3",
   "version": "3.6.6"
  }
 },
 "nbformat": 4,
 "nbformat_minor": 2
}
