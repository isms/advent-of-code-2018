{
 "cells": [
  {
   "cell_type": "markdown",
   "metadata": {},
   "source": [
    "\n",
    "The tree is made up of nodes; a single, outermost node forms the tree's root, and it contains all other nodes in the tree (or contains nodes that contain nodes, and so on).\n",
    "\n",
    "Specifically, a node consists of:\n",
    "\n",
    "- A header, which is always exactly two numbers:\n",
    "  * The quantity of child nodes.\n",
    "  * The quantity of metadata entries.\n",
    "- Zero or more child nodes (as specified in the header).\n",
    "- One or more metadata entries (as specified in the header).\n",
    "\n",
    "Each child node is itself a node that has its own header, child nodes, and metadata. For example:\n",
    "\n",
    "```\n",
    "2 3 0 3 10 11 12 1 1 0 1 99 2 1 1 2\n",
    "A----------------------------------\n",
    "    B----------- C-----------\n",
    "                     D-----\n",
    "```\n",
    "\n",
    "In this example, each node of the tree is also marked with an underline starting with a letter for easier identification. In it, there are four nodes:\n",
    "\n",
    "- A, which has 2 child nodes (B, C) and 3 metadata entries (1, 1, 2).\n",
    "- B, which has 0 child nodes and 3 metadata entries (10, 11, 12).\n",
    "- C, which has 1 child node (D) and 1 metadata entry (2).\n",
    "- D, which has 0 child nodes and 1 metadata entry (99).\n",
    "\n",
    "The first check done on the license file is to simply add up all of the metadata entries. In this example, that sum is 1+1+2+10+11+12+2+99=138.\n",
    "\n",
    "**What is the sum of all metadata entries?**"
   ]
  },
  {
   "cell_type": "code",
   "execution_count": 1,
   "metadata": {},
   "outputs": [],
   "source": [
    "import string\n",
    "from collections import namedtuple\n",
    "\n",
    "def parse(text):\n",
    "    return list(map(int, text.strip().split()))\n",
    "\n",
    "test_input = \"2 3 0 3 10 11 12 1 1 0 1 99 2 1 1 2\"\n",
    "test_data = parse(test_input)\n",
    "\n",
    "with open('../inputs/08/input.txt', 'r') as fp:\n",
    "    data = parse(fp.read())"
   ]
  },
  {
   "cell_type": "markdown",
   "metadata": {},
   "source": [
    "### Part 1"
   ]
  },
  {
   "cell_type": "code",
   "execution_count": 2,
   "metadata": {},
   "outputs": [
    {
     "data": {
      "text/plain": [
       "([], 138)"
      ]
     },
     "execution_count": 2,
     "metadata": {},
     "output_type": "execute_result"
    }
   ],
   "source": [
    "def running_sum(rest, curr=0):\n",
    "    n_children, n_metadata, *rest = rest\n",
    "    \n",
    "    for i in range(n_children):\n",
    "        rest, curr = running_sum(rest, curr)\n",
    "    \n",
    "    own_metadata = rest[:n_metadata]\n",
    "    curr += sum(own_metadata)\n",
    "    return rest[n_metadata:], curr\n",
    "\n",
    "running_sum(test_data)"
   ]
  },
  {
   "cell_type": "code",
   "execution_count": 3,
   "metadata": {},
   "outputs": [
    {
     "data": {
      "text/plain": [
       "([], 42196)"
      ]
     },
     "execution_count": 3,
     "metadata": {},
     "output_type": "execute_result"
    }
   ],
   "source": [
    "running_sum(data)"
   ]
  },
  {
   "cell_type": "markdown",
   "metadata": {},
   "source": [
    "### Part 2"
   ]
  },
  {
   "cell_type": "code",
   "execution_count": 4,
   "metadata": {},
   "outputs": [
    {
     "data": {
      "text/plain": [
       "([], 66)"
      ]
     },
     "execution_count": 4,
     "metadata": {},
     "output_type": "execute_result"
    }
   ],
   "source": [
    "def node_value(rest):\n",
    "    n_children, n_metadata, *rest = rest\n",
    "\n",
    "    if not n_children:\n",
    "        own_metadata = rest[:n_metadata]\n",
    "        value = sum(own_metadata)\n",
    "        return rest[n_metadata:], value\n",
    "\n",
    "    children = []\n",
    "    for n in range(n_children):\n",
    "        rest, res = node_value(rest)\n",
    "        children.append(res)\n",
    "    \n",
    "    own_metadata = rest[:n_metadata]\n",
    "    value = sum(children[j - 1] for j in own_metadata if j <= n_children)\n",
    "    return rest[n_metadata:], value\n",
    "\n",
    "node_value(test_data)"
   ]
  },
  {
   "cell_type": "code",
   "execution_count": 5,
   "metadata": {},
   "outputs": [
    {
     "data": {
      "text/plain": [
       "([], 33649)"
      ]
     },
     "execution_count": 5,
     "metadata": {},
     "output_type": "execute_result"
    }
   ],
   "source": [
    "node_value(data)"
   ]
  },
  {
   "cell_type": "code",
   "execution_count": null,
   "metadata": {},
   "outputs": [],
   "source": []
  }
 ],
 "metadata": {
  "kernelspec": {
   "display_name": "Python 3",
   "language": "python",
   "name": "python3"
  },
  "language_info": {
   "codemirror_mode": {
    "name": "ipython",
    "version": 3
   },
   "file_extension": ".py",
   "mimetype": "text/x-python",
   "name": "python",
   "nbconvert_exporter": "python",
   "pygments_lexer": "ipython3",
   "version": "3.6.3"
  }
 },
 "nbformat": 4,
 "nbformat_minor": 2
}
