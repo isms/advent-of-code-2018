{
 "cells": [
  {
   "cell_type": "markdown",
   "metadata": {},
   "source": [
    "# --- Day 5: Alchemical Reduction ---\n",
    "\n",
    "## Part 1\n",
    "\n",
    "You've managed to sneak in to the prototype suit manufacturing lab. The Elves are making decent progress, but are still struggling with the suit's size reduction capabilities.\n",
    "\n",
    "While the very latest in 1518 alchemical technology might have solved their problem eventually, you can do better. You scan the chemical composition of the suit's material and discover that it is formed by extremely long polymers (one of which is available as your puzzle input).\n",
    "\n",
    "The polymer is formed by smaller units which, when triggered, react with each other such that two adjacent units of the same type and opposite polarity are destroyed. Units' types are represented by letters; units' polarity is represented by capitalization. For instance, r and R are units with the same type but opposite polarity, whereas r and s are entirely different types and do not react.\n",
    "\n",
    "For example:\n",
    "\n",
    "- In aA, a and A react, leaving nothing behind.\n",
    "- In abBA, bB destroys itself, leaving aA. As above, this then destroys itself, leaving nothing.\n",
    "- In abAB, no two adjacent units are of the same type, and so nothing happens.\n",
    "- In aabAAB, even though aa and AA are of the same type, their polarities match, and so nothing happens.\n",
    "\n",
    "Now, consider a larger example, `dabAcCaCBAcCcaDA`:\n",
    "\n",
    "```\n",
    "dabAcCaCBAcCcaDA  The first 'cC' is removed.\n",
    "dabAaCBAcCcaDA    This creates 'Aa', which is removed.\n",
    "dabCBAcCcaDA      Either 'cC' or 'Cc' are removed (the result is the same).\n",
    "dabCBAcaDA        No further actions can be taken.\n",
    "```\n",
    "\n",
    "After all possible reactions, the resulting polymer contains 10 units."
   ]
  },
  {
   "cell_type": "code",
   "execution_count": 4,
   "metadata": {},
   "outputs": [
    {
     "name": "stdout",
     "output_type": "stream",
     "text": [
      "11242\n"
     ]
    }
   ],
   "source": [
    "import string\n",
    "from itertools import chain\n",
    "\n",
    "def get_units(text):\n",
    "    return set(c for c in text.lower() if c in string.ascii_lowercase)\n",
    "\n",
    "def precompute_possible_pairs(text):\n",
    "    all_chars = get_units(text)\n",
    "    bad_pairs = chain.from_iterable([(c + c.upper(), c.upper() + c) for c in all_chars])\n",
    "    return list(bad_pairs)\n",
    "\n",
    "def remove_polar_pairs(text):\n",
    "    bad_pairs = precompute_possible_pairs(text)\n",
    "    prev = None\n",
    "    curr = text\n",
    "    while prev != curr:\n",
    "        prev = curr\n",
    "        for pair in bad_pairs:\n",
    "            curr = curr.replace(pair, \"\")\n",
    "    return curr\n",
    "\n",
    "with open('../inputs/05/input.txt', 'r') as fp:\n",
    "    text = fp.read().strip()\n",
    "    cleaned = remove_polar_pairs(text)\n",
    "    print(len(cleaned))"
   ]
  },
  {
   "cell_type": "markdown",
   "metadata": {},
   "source": [
    "## Part 2\n",
    "\n",
    "Time to improve the polymer.\n",
    "\n",
    "One of the unit types is causing problems; it's preventing the polymer from collapsing as much as it should. Your goal is to figure out which unit type is causing the most problems, remove all instances of it (regardless of polarity), fully react the remaining polymer, and measure its length.\n",
    "\n",
    "For example, again using the polymer dabAcCaCBAcCcaDA from above:\n",
    "\n",
    "- Removing all A/a units produces dbcCCBcCcD. Fully reacting this polymer produces dbCBcD, which has length 6.\n",
    "- Removing all B/b units produces daAcCaCAcCcaDA. Fully reacting this polymer produces daCAcaDA, which has length 8.\n",
    "- Removing all C/c units produces dabAaBAaDA. Fully reacting this polymer produces daDA, which has length 4.\n",
    "- Removing all D/d units produces abAcCaCBAcCcaA. Fully reacting this polymer produces abCBAc, which has length 6.\n",
    "\n",
    "In this example, removing all C/c units was best, producing the answer 4.\n",
    "\n",
    "What is the length of the shortest polymer you can produce by removing all units of exactly one type and fully reacting the result?\n"
   ]
  },
  {
   "cell_type": "code",
   "execution_count": 2,
   "metadata": {},
   "outputs": [
    {
     "name": "stderr",
     "output_type": "stream",
     "text": [
      "100%|██████████| 26/26 [00:08<00:00,  3.27it/s]\n"
     ]
    }
   ],
   "source": [
    "from tqdm import tqdm\n",
    "\n",
    "results = {}\n",
    "for unit in tqdm(get_units(text)):\n",
    "    curr = text.replace(unit.lower(), \"\").replace(unit.upper(), \"\")\n",
    "    results[unit] = len(remove_polar_pairs(curr))"
   ]
  },
  {
   "cell_type": "code",
   "execution_count": 3,
   "metadata": {},
   "outputs": [
    {
     "data": {
      "text/plain": [
       "[('t', 5492),\n",
       " ('g', 10718),\n",
       " ('c', 10750),\n",
       " ('o', 10752),\n",
       " ('y', 10752),\n",
       " ('w', 10754),\n",
       " ('z', 10768),\n",
       " ('a', 10768),\n",
       " ('l', 10770),\n",
       " ('q', 10776),\n",
       " ('f', 10784),\n",
       " ('i', 10786),\n",
       " ('p', 10796),\n",
       " ('e', 10800),\n",
       " ('u', 10804),\n",
       " ('h', 10806),\n",
       " ('b', 10808),\n",
       " ('m', 10812),\n",
       " ('s', 10816),\n",
       " ('n', 10820),\n",
       " ('j', 10822),\n",
       " ('v', 10826),\n",
       " ('k', 10826),\n",
       " ('r', 10832),\n",
       " ('x', 10836),\n",
       " ('d', 10842)]"
      ]
     },
     "execution_count": 3,
     "metadata": {},
     "output_type": "execute_result"
    }
   ],
   "source": [
    "sorted(results.items(), key=lambda entry: entry[1])"
   ]
  },
  {
   "cell_type": "code",
   "execution_count": null,
   "metadata": {},
   "outputs": [],
   "source": []
  }
 ],
 "metadata": {
  "kernelspec": {
   "display_name": "Python 3",
   "language": "python",
   "name": "python3"
  },
  "language_info": {
   "codemirror_mode": {
    "name": "ipython",
    "version": 3
   },
   "file_extension": ".py",
   "mimetype": "text/x-python",
   "name": "python",
   "nbconvert_exporter": "python",
   "pygments_lexer": "ipython3",
   "version": "3.6.4"
  }
 },
 "nbformat": 4,
 "nbformat_minor": 2
}
