{
 "cells": [
  {
   "cell_type": "code",
   "execution_count": 1,
   "metadata": {},
   "outputs": [
    {
     "name": "stderr",
     "output_type": "stream",
     "text": [
      "100%|██████████| 20/20 [00:00<00:00, 2831.22it/s]\n"
     ]
    }
   ],
   "source": [
    "import numpy as np\n",
    "from tqdm import tqdm\n",
    "from collections import deque\n",
    "\n",
    "\n",
    "def from_char(c):\n",
    "    return 1 if c == \"#\" else 0\n",
    "\n",
    "def from_string(s):\n",
    "    return np.array([from_char(x) for x in s.strip()], dtype=np.int)\n",
    "\n",
    "def to_string(arr):\n",
    "    return ''.join([\"#\" if x else \".\" for x in arr])\n",
    "\n",
    "def parse_input(text):\n",
    "    lines = [l.strip() for l in text.splitlines() if l]\n",
    "    plants = from_string(lines[0].split(\": \")[1])\n",
    "    transitions = {}\n",
    "    for line in lines[1:]:\n",
    "        pattern, center = line.split(\" => \")\n",
    "        transitions[tuple(from_string(pattern))] = from_char(center)\n",
    "    return plants, transitions\n",
    "\n",
    "def extend_if_necessary(plants, start_index, buffer=5):\n",
    "    # add space at the ends if we need to\n",
    "    add_left = max(0, buffer - np.argmax(plants))\n",
    "    add_right = max(0, buffer - np.argmax(plants[::-1]))\n",
    "    start_index -= add_left\n",
    "    extended = np.r_[np.zeros(add_left), plants, np.zeros(add_right)]\n",
    "    return extended.astype(int), start_index\n",
    "\n",
    "def step(plants, transitions, start_index):\n",
    "    stepped = np.zeros_like(plants)\n",
    "    for i in range(2, len(plants) - 3):\n",
    "        window = tuple(plants[i-2:i+2+1])\n",
    "        stepped[i] = transitions.get(window, 0)\n",
    "    return stepped, start_index\n",
    "\n",
    "def play(plants, transitions, rounds=20, verbose=False):\n",
    "    start_index = 0\n",
    "    for i in tqdm(range(1, rounds+1)):\n",
    "        plants, start_index = extend_if_necessary(plants, start_index)\n",
    "        if verbose:\n",
    "            print(f\"{i:3}: @{start_index:3} {to_string(plants)}\")\n",
    "        plants, start_index = step(plants, transitions, start_index)\n",
    "    return plants, start_index, final_score(plants, start_index)\n",
    "\n",
    "def final_score(plants, start_index):\n",
    "    numbers = np.arange(len(plants)) + start_index\n",
    "    return plants.dot(numbers)\n",
    "\n",
    "assert play(*parse_input(\"\"\"initial state: #..#.#..##......###...###\n",
    "\n",
    "...## => #\n",
    "..#.. => #\n",
    ".#... => #\n",
    ".#.#. => #\n",
    ".#.## => #\n",
    ".##.. => #\n",
    ".#### => #\n",
    "#.#.# => #\n",
    "#.### => #\n",
    "##.#. => #\n",
    "##.## => #\n",
    "###.. => #\n",
    "###.# => #\n",
    "####. => #\"\"\"), rounds=20)[2] == 325"
   ]
  },
  {
   "cell_type": "code",
   "execution_count": 2,
   "metadata": {},
   "outputs": [
    {
     "name": "stderr",
     "output_type": "stream",
     "text": [
      "100%|██████████| 20/20 [00:00<00:00, 1309.64it/s]\n"
     ]
    },
    {
     "data": {
      "text/plain": [
       "3915"
      ]
     },
     "execution_count": 2,
     "metadata": {},
     "output_type": "execute_result"
    }
   ],
   "source": [
    "with open(\"../inputs/12/input.txt\", \"r\") as fp:\n",
    "    text = fp.read()\n",
    "    input_plants, input_transitions = parse_input(text)\n",
    "    res = play(input_plants, input_transitions, rounds=20)\n",
    "res[2]"
   ]
  },
  {
   "cell_type": "markdown",
   "metadata": {},
   "source": [
    "### Part 2"
   ]
  },
  {
   "cell_type": "code",
   "execution_count": 3,
   "metadata": {},
   "outputs": [
    {
     "name": "stderr",
     "output_type": "stream",
     "text": [
      "100%|██████████| 1000/1000 [00:02<00:00, 400.98it/s]\n"
     ]
    },
    {
     "data": {
      "image/png": "[encoded data removed]",
      "text/plain": [
       "<Figure size 319.968x288 with 1 Axes>"
      ]
     },
     "metadata": {
      "needs_background": "light"
     },
     "output_type": "display_data"
    }
   ],
   "source": [
    "%matplotlib inline\n",
    "from matplotlib import pyplot as plt\n",
    "\n",
    "def track(plants, transitions, rounds):\n",
    "    kept = []\n",
    "    idxs = []\n",
    "    start_index = 0\n",
    "    for i in tqdm(range(1, rounds+1)):\n",
    "        plants, start_index = extend_if_necessary(plants, start_index)\n",
    "        plants, start_index = step(plants, transitions, start_index)\n",
    "        kept.append(plants)\n",
    "        idxs.append(start_index)\n",
    "    return kept, idxs\n",
    "\n",
    "def visualize_first_n(n):\n",
    "    kept, idxs = track(input_plants, input_transitions, rounds=n)\n",
    "    lens = np.array([len(k) for k in kept])\n",
    "    start = idxs[lens.argmax()]\n",
    "    compare = np.zeros((len(kept), lens.max()), dtype=np.int)\n",
    "    for i, k in enumerate(kept):\n",
    "        ix = idxs[i]\n",
    "        a = ix - start\n",
    "        b = a + len(k)\n",
    "        compare[i, a:b] = k\n",
    "    plt.matshow(compare, aspect=1)\n",
    "    plt.show()\n",
    "    \n",
    "visualize_first_n(1000)"
   ]
  },
  {
   "cell_type": "code",
   "execution_count": 4,
   "metadata": {},
   "outputs": [
    {
     "name": "stderr",
     "output_type": "stream",
     "text": [
      "100%|██████████| 99/99 [00:00<00:00, 810.86it/s]\n"
     ]
    },
    {
     "data": {
      "image/png": "[encoded data removed]",
      "text/plain": [
       "<Figure size 610.909x288 with 1 Axes>"
      ]
     },
     "metadata": {
      "needs_background": "light"
     },
     "output_type": "display_data"
    }
   ],
   "source": [
    "visualize_first_n(99)"
   ]
  },
  {
   "cell_type": "code",
   "execution_count": 5,
   "metadata": {},
   "outputs": [
    {
     "name": "stderr",
     "output_type": "stream",
     "text": [
      "100%|██████████| 99/99 [00:00<00:00, 1305.03it/s]\n",
      "100%|██████████| 99/99 [00:00<00:00, 1254.08it/s]\n",
      "100%|██████████| 99/99 [00:00<00:00, 1318.96it/s]\n"
     ]
    },
    {
     "data": {
      "text/plain": [
       "4900000001793"
      ]
     },
     "execution_count": 5,
     "metadata": {},
     "output_type": "execute_result"
    }
   ],
   "source": [
    "def extrapolate_from_round_99(n):\n",
    "    assert n >= 99\n",
    "    delta = n - 99\n",
    "    \n",
    "    arr99, idx99, _ = play(input_plants, input_transitions, rounds=99)\n",
    "    p_start, p_stop = arr99.argmax(), len(arr99) - arr99[::-1].argmax()\n",
    "    repeating_pattern = arr99[p_start:p_stop]\n",
    "    \n",
    "    numbers = np.arange(len(arr99))[p_start:p_stop]\n",
    "    numbers += idx99 + delta\n",
    "    \n",
    "    return numbers.dot(repeating_pattern)\n",
    "    \n",
    "_, _, score99 = play(input_plants, input_transitions, rounds=99)\n",
    "assert extrapolate_from_round_99(99) == score99\n",
    "extrapolate_from_round_99(50_000_000_000)"
   ]
  }
 ],
 "metadata": {
  "kernelspec": {
   "display_name": "Python 3",
   "language": "python",
   "name": "python3"
  },
  "language_info": {
   "codemirror_mode": {
    "name": "ipython",
    "version": 3
   },
   "file_extension": ".py",
   "mimetype": "text/x-python",
   "name": "python",
   "nbconvert_exporter": "python",
   "pygments_lexer": "ipython3",
   "version": "3.6.6"
  }
 },
 "nbformat": 4,
 "nbformat_minor": 2
}
