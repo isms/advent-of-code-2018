{
 "cells": [
  {
   "cell_type": "markdown",
   "metadata": {},
   "source": [
    "## --- Day 14: Chocolate Charts ---\n",
    "\n",
    "The Elves are trying to come up with the ultimate hot chocolate recipe; they're even maintaining a scoreboard which tracks the quality score (0-9) of each recipe.\n",
    "\n",
    "Only two recipes are on the board: the first recipe got a score of 3, the second, 7. Each of the two Elves has a current recipe: the first Elf starts with the first recipe, and the second Elf starts with the second recipe.\n",
    "\n",
    "To create new recipes, the two Elves combine their current recipes. This creates new recipes from the digits of the sum of the current recipes' scores. With the current recipes' scores of 3 and 7, their sum is 10, and so two new recipes would be created: the first with score 1 and the second with score 0. If the current recipes' scores were 2 and 3, the sum, 5, would only create one recipe (with a score of 5) with its single digit.\n",
    "\n",
    "The new recipes are added to the end of the scoreboard in the order they are created. So, after the first round, the scoreboard is 3, 7, 1, 0.\n",
    "\n",
    "After all new recipes are added to the scoreboard, each Elf picks a new current recipe. To do this, the Elf steps forward through the scoreboard a number of recipes equal to 1 plus the score of their current recipe. So, after the first round, the first Elf moves forward 1 + 3 = 4 times, while the second Elf moves forward 1 + 7 = 8 times. If they run out of recipes, they loop back around to the beginning. After the first round, both Elves happen to loop around until they land on the same recipe that they had in the beginning; in general, they will move to different recipes.\n",
    "\n",
    "Drawing the first Elf as parentheses and the second Elf as square brackets, they continue this process:\n",
    "\n",
    "```\n",
    "(3)[7]\n",
    "(3)[7] 1  0 \n",
    " 3  7  1 [0](1) 0 \n",
    " 3  7  1  0 [1] 0 (1)\n",
    "(3) 7  1  0  1  0 [1] 2 \n",
    " 3  7  1  0 (1) 0  1  2 [4]\n",
    " 3  7  1 [0] 1  0 (1) 2  4  5 \n",
    " 3  7  1  0 [1] 0  1  2 (4) 5  1 \n",
    " 3 (7) 1  0  1  0 [1] 2  4  5  1  5 \n",
    " 3  7  1  0  1  0  1  2 [4](5) 1  5  8 \n",
    " 3 (7) 1  0  1  0  1  2  4  5  1  5  8 [9]\n",
    " 3  7  1  0  1  0  1 [2] 4 (5) 1  5  8  9  1  6 \n",
    " 3  7  1  0  1  0  1  2  4  5 [1] 5  8  9  1 (6) 7 \n",
    " 3  7  1  0 (1) 0  1  2  4  5  1  5 [8] 9  1  6  7  7 \n",
    " 3  7 [1] 0  1  0 (1) 2  4  5  1  5  8  9  1  6  7  7  9 \n",
    " 3  7  1  0 [1] 0  1  2 (4) 5  1  5  8  9  1  6  7  7  9  2 \n",
    "```\n",
    "\n",
    "The Elves think their skill will improve after making a few recipes (your puzzle input). However, that could take ages; you can speed this up considerably by identifying the scores of the ten recipes after that. For example:\n",
    "\n",
    "If the Elves think their skill will improve after making 9 recipes, the scores of the ten recipes after the first nine on the scoreboard would be 5158916779 (highlighted in the last line of the diagram).\n",
    "\n",
    "```\n",
    "After 5 recipes, the scores of the next ten would be 0124515891.\n",
    "After 18 recipes, the scores of the next ten would be 9251071085.\n",
    "After 2018 recipes, the scores of the next ten would be 5941429882.\n",
    "```\n",
    "\n",
    "What are the scores of the ten recipes immediately after the number of recipes in your puzzle input?\n",
    "\n",
    "Your puzzle input is `165061`.\n",
    "\n",
    "### Part 1"
   ]
  },
  {
   "cell_type": "code",
   "execution_count": 1,
   "metadata": {},
   "outputs": [
    {
     "name": "stderr",
     "output_type": "stream",
     "text": [
      "100%|██████████| 5/5 [00:00<00:00, 5605.86it/s]\n",
      "100%|██████████| 18/18 [00:00<00:00, 24990.89it/s]\n",
      "100%|██████████| 2018/2018 [00:00<00:00, 92872.33it/s]\n",
      "100%|██████████| 165061/165061 [00:01<00:00, 121451.32it/s]\n"
     ]
    },
    {
     "data": {
      "text/plain": [
       "'5992684592'"
      ]
     },
     "execution_count": 1,
     "metadata": {},
     "output_type": "execute_result"
    }
   ],
   "source": [
    "import itertools\n",
    "import numpy as np\n",
    "from tqdm import tqdm\n",
    "from collections import deque\n",
    "\n",
    "PRECALC_DIVMOD = {x: divmod(x, 10) for x in range(10, 20)}\n",
    "\n",
    "\n",
    "def run_fast(recipes0, positions0, preallocate=1_000_000):\n",
    "    \"\"\"\n",
    "    highly tuned version that runs >65,000 iterations per second:\n",
    "    - does not dynamically allocate any memory \n",
    "    - precalculates the possible new recipes when any modulo division is needed\n",
    "    - more verbose to prevent memory copying\n",
    "    \"\"\"\n",
    "    recipes = np.zeros(preallocate, dtype=np.uint8)\n",
    "    r0, r1 = recipes0\n",
    "    recipes[0], recipes[1] = recipes0\n",
    "    \n",
    "    i = 0\n",
    "    idx_last = 1\n",
    "    r0, r1 = recipes0\n",
    "    p0, p1 = positions0\n",
    "    while True:\n",
    "        yield recipes[i]\n",
    "        i += 1\n",
    "        \n",
    "        # see if we need to find new recipes\n",
    "        if i > idx_last:\n",
    "            r0 = recipes[p0]\n",
    "            r1 = recipes[p1]\n",
    "            \n",
    "            # find new recipes\n",
    "            s = r0 + r1\n",
    "            if s < 10:\n",
    "                recipes[idx_last+1] = s\n",
    "                idx_last += 1\n",
    "            else:\n",
    "                recipes[idx_last+1:idx_last+3] = PRECALC_DIVMOD[s]\n",
    "                idx_last += 2\n",
    "            \n",
    "            # move the elves\n",
    "            p0 = (p0 + r0 + 1) % (idx_last + 1)\n",
    "            p1 = (p1 + r1 + 1) % (idx_last + 1)\n",
    "        \n",
    "        # make sure we have enough memory allocated to keep going\n",
    "        if (idx_last + 2) >= preallocate:\n",
    "            recipes = np.append(recipes, np.zeros_like(recipes))\n",
    "            \n",
    "\n",
    "def n_after(recipes, positions, after, n=10):\n",
    "    gen = run_fast(recipes, positions)\n",
    "    for _ in tqdm(range(after)):\n",
    "        next(gen)\n",
    "    return ''.join([str(next(gen)) for _ in range(n)])\n",
    "\n",
    "recipes = (3, 7)\n",
    "positions = (0, 1)\n",
    "assert n_after(recipes, positions, after=5, n=10) == '0124515891'\n",
    "assert n_after(recipes, positions, after=18, n=10) == '9251071085'\n",
    "assert n_after(recipes, positions, after=2018, n=10) == '5941429882'\n",
    "n_after(recipes, positions, after=165061, n=10)"
   ]
  },
  {
   "cell_type": "code",
   "execution_count": 2,
   "metadata": {},
   "outputs": [
    {
     "name": "stderr",
     "output_type": "stream",
     "text": [
      "100%|██████████| 50000/50000 [00:01<00:00, 29042.45it/s]\n"
     ]
    },
    {
     "data": {
      "text/plain": [
       "Timer unit: 1e-06 s\n",
       "\n",
       "Total time: 0.924714 s\n",
       "File: <ipython-input-1-6793d6805da0>\n",
       "Function: run_fast at line 9\n",
       "\n",
       "Line #      Hits         Time  Per Hit   % Time  Line Contents\n",
       "==============================================================\n",
       "     9                                           def run_fast(recipes0, positions0, preallocate=1_000_000):\n",
       "    10                                               \"\"\"\n",
       "    11                                               highly tuned version that runs about 60,000 iterations per second:\n",
       "    12                                               - does not dynamically allocate any memory \n",
       "    13                                               - \n",
       "    14                                               \"\"\"\n",
       "    15         1        348.0    348.0      0.0      recipes = np.zeros(preallocate, dtype=np.uint8)\n",
       "    16         1          2.0      2.0      0.0      r0, r1 = recipes0\n",
       "    17         1          7.0      7.0      0.0      recipes[0], recipes[1] = recipes0\n",
       "    18                                               \n",
       "    19         1          1.0      1.0      0.0      i = 0\n",
       "    20         1          1.0      1.0      0.0      idx_last = 1\n",
       "    21         1          1.0      1.0      0.0      r0, r1 = recipes0\n",
       "    22         1          1.0      1.0      0.0      p0, p1 = positions0\n",
       "    23         1          1.0      1.0      0.0      while True:\n",
       "    24     50010      60331.0      1.2      6.5          yield recipes[i]\n",
       "    25     50009      58464.0      1.2      6.3          i += 1\n",
       "    26                                                   \n",
       "    27                                                   # see if we need to find new recipes\n",
       "    28     50009      47655.0      1.0      5.2          if i > idx_last:\n",
       "    29     38611      51538.0      1.3      5.6              r0 = recipes[p0]\n",
       "    30     38611      44942.0      1.2      4.9              r1 = recipes[p1]\n",
       "    31                                                       \n",
       "    32                                                       # find new recipes\n",
       "    33     38611      44215.0      1.1      4.8              s = r0 + r1\n",
       "    34     38611     206069.0      5.3     22.3              if s < 10:\n",
       "    35     27214      43438.0      1.6      4.7                  recipes[idx_last+1] = s\n",
       "    36     27214      27807.0      1.0      3.0                  idx_last += 1\n",
       "    37                                                       else:\n",
       "    38     11397     103308.0      9.1     11.2                  recipes[idx_last+1:idx_last+3] = PRECALC_DIVMOD[s]\n",
       "    39     11397      16312.0      1.4      1.8                  idx_last += 2\n",
       "    40                                                       \n",
       "    41                                                       # move the elves\n",
       "    42     38611      88444.0      2.3      9.6              p0 = (p0 + r0 + 1) % (idx_last + 1)\n",
       "    43     38611      76740.0      2.0      8.3              p1 = (p1 + r1 + 1) % (idx_last + 1)\n",
       "    44                                                   \n",
       "    45                                                   # make sure we have enough memory allocated to keep going\n",
       "    46     50009      55089.0      1.1      6.0          if (idx_last + 2) >= preallocate:\n",
       "    47                                                       recipes = np.append(recipes, np.zeros_like(recipes))"
      ]
     },
     "metadata": {},
     "output_type": "display_data"
    }
   ],
   "source": [
    "%load_ext line_profiler\n",
    "%lprun -f run_fast n_after(recipes, positions, after=50000, n=10)"
   ]
  },
  {
   "cell_type": "markdown",
   "metadata": {},
   "source": [
    "### Part 2\n",
    "\n",
    "As it turns out, you got the Elves' plan backwards. They actually want to know how many recipes appear on the scoreboard to the left of the first recipes whose scores are the digits from your puzzle input.\n",
    "\n",
    "- 51589 first appears after 9 recipes.\n",
    "- 01245 first appears after 5 recipes.\n",
    "- 92510 first appears after 18 recipes.\n",
    "- 59414 first appears after 2018 recipes.\n",
    "\n",
    "How many recipes appear on the scoreboard to the left of the score sequence in your puzzle input?"
   ]
  },
  {
   "cell_type": "code",
   "execution_count": 3,
   "metadata": {},
   "outputs": [
    {
     "name": "stderr",
     "output_type": "stream",
     "text": [
      "9it [00:00, 9539.74it/s]\n",
      "5it [00:00, 3974.14it/s]\n",
      "18it [00:00, 28013.90it/s]\n",
      "2018it [00:00, 60461.35it/s]\n"
     ]
    }
   ],
   "source": [
    "def window(seq, n=2):\n",
    "    \"\"\"\n",
    "    Returns a sliding window (of width n) over data from the iterable\n",
    "       s -> (s0,s1,...s[n-1]), (s1,s2,...,sn), ...\n",
    "    from: https://docs.python.org/release/2.3.5/lib/itertools-example.html\n",
    "    \"\"\"\n",
    "    it = iter(seq)\n",
    "    result = tuple(itertools.islice(it, n))\n",
    "    if len(result) == n:\n",
    "        yield result    \n",
    "    for elem in it:\n",
    "        result = result[1:] + (elem,)\n",
    "        yield result\n",
    "\n",
    "def first_seen(recipes, positions, pattern, **kwargs):\n",
    "    gen = run_fast(recipes, positions, **kwargs)\n",
    "    n_at_a_time = window(gen, n=len(pattern))\n",
    "    pbar = tqdm()\n",
    "    for i, curr in enumerate(n_at_a_time):\n",
    "        if curr == pattern:\n",
    "            break\n",
    "        pbar.update()\n",
    "    pbar.close()\n",
    "    return i\n",
    "\n",
    "assert first_seen(recipes, positions, (5, 1, 5, 8, 9)) == 9\n",
    "assert first_seen(recipes, positions, (0, 1, 2, 4, 5)) == 5\n",
    "assert first_seen(recipes, positions, (9, 2, 5, 1, 0)) == 18\n",
    "assert first_seen(recipes, positions, (5, 9, 4, 1, 4)) == 2018"
   ]
  },
  {
   "cell_type": "code",
   "execution_count": 4,
   "metadata": {},
   "outputs": [
    {
     "name": "stderr",
     "output_type": "stream",
     "text": [
      "20181148it [04:59, 67465.47it/s]\n"
     ]
    },
    {
     "data": {
      "text/plain": [
       "20181148"
      ]
     },
     "execution_count": 4,
     "metadata": {},
     "output_type": "execute_result"
    }
   ],
   "source": [
    "wanted = (1, 6, 5, 0, 6, 1)\n",
    "first_seen(recipes, positions, wanted, preallocate=100_000_000)"
   ]
  }
 ],
 "metadata": {
  "kernelspec": {
   "display_name": "Python 3",
   "language": "python",
   "name": "python3"
  },
  "language_info": {
   "codemirror_mode": {
    "name": "ipython",
    "version": 3
   },
   "file_extension": ".py",
   "mimetype": "text/x-python",
   "name": "python",
   "nbconvert_exporter": "python",
   "pygments_lexer": "ipython3",
   "version": "3.6.6"
  }
 },
 "nbformat": 4,
 "nbformat_minor": 2
}
